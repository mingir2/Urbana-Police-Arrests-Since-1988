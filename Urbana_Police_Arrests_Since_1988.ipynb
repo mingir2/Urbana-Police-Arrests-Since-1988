{
  "nbformat": 4,
  "nbformat_minor": 0,
  "metadata": {
    "colab": {
      "name": "Urbana Police Arrests Since 1988.ipynb",
      "provenance": [],
      "collapsed_sections": []
    },
    "kernelspec": {
      "name": "python3",
      "display_name": "Python 3"
    }
  },
  "cells": [
    {
      "cell_type": "code",
      "metadata": {
        "id": "GDfvB2zglsi0",
        "colab_type": "code",
        "colab": {}
      },
      "source": [
        "import pandas as pd\n",
        "import matplotlib.pyplot as plt"
      ],
      "execution_count": 0,
      "outputs": []
    },
    {
      "cell_type": "code",
      "metadata": {
        "id": "73QqhzHClSHG",
        "colab_type": "code",
        "colab": {}
      },
      "source": [
        "api_url = \"https://data.urbanaillinois.us/resource/afbd-8beq.csv\""
      ],
      "execution_count": 0,
      "outputs": []
    },
    {
      "cell_type": "markdown",
      "metadata": {
        "id": "buz029_tBGRe",
        "colab_type": "text"
      },
      "source": [
        "The source link of the data: https://data.urbanaillinois.us/Police/Urbana-Police-Arrests-Since-1988/afbd-8beq"
      ]
    },
    {
      "cell_type": "code",
      "metadata": {
        "id": "ENjubPEAmB0t",
        "colab_type": "code",
        "colab": {}
      },
      "source": [
        "data = pd.read_csv(api_url, delimiter = ',')"
      ],
      "execution_count": 0,
      "outputs": []
    },
    {
      "cell_type": "code",
      "metadata": {
        "id": "rFShZhxSmMVq",
        "colab_type": "code",
        "colab": {
          "base_uri": "https://localhost:8080/",
          "height": 400
        },
        "outputId": "4ae4f1bf-9b72-44d8-a3ed-c0f067eb94a2"
      },
      "source": [
        "data.head()"
      ],
      "execution_count": 4,
      "outputs": [
        {
          "output_type": "execute_result",
          "data": {
            "text/html": [
              "<div>\n",
              "<style scoped>\n",
              "    .dataframe tbody tr th:only-of-type {\n",
              "        vertical-align: middle;\n",
              "    }\n",
              "\n",
              "    .dataframe tbody tr th {\n",
              "        vertical-align: top;\n",
              "    }\n",
              "\n",
              "    .dataframe thead th {\n",
              "        text-align: right;\n",
              "    }\n",
              "</style>\n",
              "<table border=\"1\" class=\"dataframe\">\n",
              "  <thead>\n",
              "    <tr style=\"text-align: right;\">\n",
              "      <th></th>\n",
              "      <th>arrest_code</th>\n",
              "      <th>incident_number</th>\n",
              "      <th>date_of_arrest</th>\n",
              "      <th>year_of_arrest</th>\n",
              "      <th>month_of_arrest</th>\n",
              "      <th>arrest_type_description</th>\n",
              "      <th>crime_code</th>\n",
              "      <th>crime_code_description</th>\n",
              "      <th>crime_category_code</th>\n",
              "      <th>crime_category_description</th>\n",
              "      <th>conspiracy_code</th>\n",
              "      <th>statute</th>\n",
              "      <th>violation</th>\n",
              "      <th>disposition_code</th>\n",
              "      <th>disposition_description</th>\n",
              "      <th>age_at_arrest</th>\n",
              "      <th>arrestee_sex</th>\n",
              "      <th>arrestee_race</th>\n",
              "      <th>arrestee_employment_description</th>\n",
              "      <th>arrestee_residency_description</th>\n",
              "      <th>arrestee_home_city</th>\n",
              "      <th>arrestee_home_state</th>\n",
              "      <th>arrestee_home_zip</th>\n",
              "      <th>arrest_resolution</th>\n",
              "      <th>mapped_address</th>\n",
              "    </tr>\n",
              "  </thead>\n",
              "  <tbody>\n",
              "    <tr>\n",
              "      <th>0</th>\n",
              "      <td>A19-03536</td>\n",
              "      <td>U19-04248</td>\n",
              "      <td>2019-08-25T00:00:00.000</td>\n",
              "      <td>2019</td>\n",
              "      <td>8</td>\n",
              "      <td>SUMMONED</td>\n",
              "      <td>8701</td>\n",
              "      <td>NOISE PROHIBITION</td>\n",
              "      <td>C54</td>\n",
              "      <td>Noise &amp; Vibrations Violations</td>\n",
              "      <td>NaN</td>\n",
              "      <td>UPD 16-2</td>\n",
              "      <td>NOISE PROHIBITION</td>\n",
              "      <td>88</td>\n",
              "      <td>SUMMONED / CITED / NOTIFIED - ADULT</td>\n",
              "      <td>20.0</td>\n",
              "      <td>FEMALE</td>\n",
              "      <td>BLACK</td>\n",
              "      <td>FULL-TIME STUDENT</td>\n",
              "      <td>RESIDENT</td>\n",
              "      <td>URBANA</td>\n",
              "      <td>IL</td>\n",
              "      <td>61801.0</td>\n",
              "      <td>NOTICE TO APPEAR - CITY</td>\n",
              "      <td>\\nURBANA, IL 61801\\n(40.106957, -88.210905)</td>\n",
              "    </tr>\n",
              "    <tr>\n",
              "      <th>1</th>\n",
              "      <td>A19-03538</td>\n",
              "      <td>U19-04261</td>\n",
              "      <td>2019-08-25T00:00:00.000</td>\n",
              "      <td>2019</td>\n",
              "      <td>8</td>\n",
              "      <td>ON VIEW</td>\n",
              "      <td>486</td>\n",
              "      <td>BATTERY-DOMESTIC</td>\n",
              "      <td>C05</td>\n",
              "      <td>Battery</td>\n",
              "      <td>NaN</td>\n",
              "      <td>720-5/12-3.2</td>\n",
              "      <td>BATTERY-DOMESTIC</td>\n",
              "      <td>87</td>\n",
              "      <td>ARRESTED AND HELD FOR PROSECUTION</td>\n",
              "      <td>39.0</td>\n",
              "      <td>MALE</td>\n",
              "      <td>BLACK</td>\n",
              "      <td>UNEMPLOYED</td>\n",
              "      <td>NON-RESIDENT</td>\n",
              "      <td>CHAMPAIGN</td>\n",
              "      <td>IL</td>\n",
              "      <td>61820.0</td>\n",
              "      <td>TAKEN TO JAIL</td>\n",
              "      <td>\\nCHAMPAIGN, IL 61820\\n(40.112597, -88.244388)</td>\n",
              "    </tr>\n",
              "    <tr>\n",
              "      <th>2</th>\n",
              "      <td>A19-03528</td>\n",
              "      <td>U19-04230</td>\n",
              "      <td>2019-08-24T00:00:00.000</td>\n",
              "      <td>2019</td>\n",
              "      <td>8</td>\n",
              "      <td>SUMMONED</td>\n",
              "      <td>460</td>\n",
              "      <td>BATTERY</td>\n",
              "      <td>C05</td>\n",
              "      <td>Battery</td>\n",
              "      <td>NaN</td>\n",
              "      <td>720-5/12-3</td>\n",
              "      <td>BATTERY</td>\n",
              "      <td>88</td>\n",
              "      <td>SUMMONED / CITED / NOTIFIED - ADULT</td>\n",
              "      <td>39.0</td>\n",
              "      <td>MALE</td>\n",
              "      <td>BLACK</td>\n",
              "      <td>UNKNOWN</td>\n",
              "      <td>RESIDENT</td>\n",
              "      <td>URBANA</td>\n",
              "      <td>IL</td>\n",
              "      <td>61801.0</td>\n",
              "      <td>NOTICE TO APPEAR - STATE</td>\n",
              "      <td>\\nURBANA, IL 61801\\n(40.106957, -88.210905)</td>\n",
              "    </tr>\n",
              "    <tr>\n",
              "      <th>3</th>\n",
              "      <td>A19-03532</td>\n",
              "      <td>U19-04233</td>\n",
              "      <td>2019-08-24T00:00:00.000</td>\n",
              "      <td>2019</td>\n",
              "      <td>8</td>\n",
              "      <td>ON VIEW</td>\n",
              "      <td>486</td>\n",
              "      <td>BATTERY-DOMESTIC</td>\n",
              "      <td>C05</td>\n",
              "      <td>Battery</td>\n",
              "      <td>NaN</td>\n",
              "      <td>720-5/12-3.2</td>\n",
              "      <td>BATTERY-DOMESTIC</td>\n",
              "      <td>87</td>\n",
              "      <td>ARRESTED AND HELD FOR PROSECUTION</td>\n",
              "      <td>19.0</td>\n",
              "      <td>FEMALE</td>\n",
              "      <td>ASIAN</td>\n",
              "      <td>NaN</td>\n",
              "      <td>NON-RESIDENT</td>\n",
              "      <td>CHAMPAIGN</td>\n",
              "      <td>IL</td>\n",
              "      <td>61820.0</td>\n",
              "      <td>TAKEN TO JAIL</td>\n",
              "      <td>\\nCHAMPAIGN, IL 61820\\n(40.112597, -88.244388)</td>\n",
              "    </tr>\n",
              "    <tr>\n",
              "      <th>4</th>\n",
              "      <td>A19-03534</td>\n",
              "      <td>U19-04246</td>\n",
              "      <td>2019-08-24T00:00:00.000</td>\n",
              "      <td>2019</td>\n",
              "      <td>8</td>\n",
              "      <td>ON VIEW</td>\n",
              "      <td>2430</td>\n",
              "      <td>ILLEGAL TRANSPORTATION OF LIQUOR</td>\n",
              "      <td>C27</td>\n",
              "      <td>Liquor Offenses</td>\n",
              "      <td>NaN</td>\n",
              "      <td>625-5/11-502</td>\n",
              "      <td>ILLEGAL TRANSPORTATION OF</td>\n",
              "      <td>88</td>\n",
              "      <td>SUMMONED / CITED / NOTIFIED - ADULT</td>\n",
              "      <td>36.0</td>\n",
              "      <td>MALE</td>\n",
              "      <td>HISPANIC</td>\n",
              "      <td>EMPLOYED</td>\n",
              "      <td>NON-RESIDENT</td>\n",
              "      <td>CHAMPAIGN</td>\n",
              "      <td>IL</td>\n",
              "      <td>61820.0</td>\n",
              "      <td>TAKEN TO JAIL</td>\n",
              "      <td>\\nCHAMPAIGN, IL 61820\\n(40.112597, -88.244388)</td>\n",
              "    </tr>\n",
              "  </tbody>\n",
              "</table>\n",
              "</div>"
            ],
            "text/plain": [
              "  arrest_code  ...                                  mapped_address\n",
              "0   A19-03536  ...     \\nURBANA, IL 61801\\n(40.106957, -88.210905)\n",
              "1   A19-03538  ...  \\nCHAMPAIGN, IL 61820\\n(40.112597, -88.244388)\n",
              "2   A19-03528  ...     \\nURBANA, IL 61801\\n(40.106957, -88.210905)\n",
              "3   A19-03532  ...  \\nCHAMPAIGN, IL 61820\\n(40.112597, -88.244388)\n",
              "4   A19-03534  ...  \\nCHAMPAIGN, IL 61820\\n(40.112597, -88.244388)\n",
              "\n",
              "[5 rows x 25 columns]"
            ]
          },
          "metadata": {
            "tags": []
          },
          "execution_count": 4
        }
      ]
    },
    {
      "cell_type": "code",
      "metadata": {
        "id": "6rhEmN7ymRVH",
        "colab_type": "code",
        "colab": {
          "base_uri": "https://localhost:8080/",
          "height": 1000
        },
        "outputId": "04f12220-149e-4819-9c39-5995884fb64a"
      },
      "source": [
        "data.groupby(['arrestee_sex', 'arrestee_residency_description', 'arrestee_race', 'arrestee_employment_description', 'crime_category_description']).arrest_resolution.value_counts()"
      ],
      "execution_count": 5,
      "outputs": [
        {
          "output_type": "execute_result",
          "data": {
            "text/plain": [
              "arrestee_sex  arrestee_residency_description  arrestee_race  arrestee_employment_description  crime_category_description     arrest_resolution       \n",
              "FEMALE        NON-RESIDENT                    ASIAN          UNKNOWN                          Traffic Offenses               PROMISE TO COMPLY            7\n",
              "                                                                                                                             INDIVIDUAL BOND              1\n",
              "                                              BLACK          EMPLOYED                         Battery                        TAKEN TO JAIL                2\n",
              "                                                                                              Burglary                       TAKEN TO JAIL                1\n",
              "                                                                                              Controlled Substance Offenses  TAKEN TO JAIL                1\n",
              "                                                                                              Deception & Fraud              TAKEN TO JAIL                1\n",
              "                                                                                              Drug Paraphernalia Act         NOTICE TO APPEAR - CITY      1\n",
              "                                                                                                                             TAKEN TO JAIL                1\n",
              "                                                                                              Theft                          NOT AVAILABLE                1\n",
              "                                                                                                                             NOTICE TO APPEAR - STATE     1\n",
              "                                                                                              Warrants & Summons             NOT AVAILABLE                1\n",
              "                                                                                                                             TAKEN TO JAIL                1\n",
              "                                                             FULL-TIME STUDENT                Burglary                       NOT AVAILABLE                1\n",
              "                                                                                              Warrants & Summons             NOT AVAILABLE                1\n",
              "                                                             UNEMPLOYED                       Disorderly Conduct             NOTICE TO APPEAR - STATE     1\n",
              "                                                                                              Theft                          NOTICE TO APPEAR - STATE     2\n",
              "                                                                                              Trespassing                    TAKEN TO JAIL                2\n",
              "                                                                                              Warrants & Summons             TAKEN TO JAIL                1\n",
              "                                                             UNKNOWN                          Burglary                       NOT AVAILABLE                1\n",
              "                                                                                                                             NOTICE TO APPEAR - STATE     1\n",
              "                                                                                              Theft                          NOT AVAILABLE                1\n",
              "                                                                                              Traffic Offenses               INDIVIDUAL BOND             28\n",
              "                                                                                                                             PROMISE TO COMPLY            9\n",
              "                                                                                                                             NOTICE TO APPEAR - STATE     2\n",
              "                                                                                              Warrants & Summons             TAKEN TO JAIL                4\n",
              "                                              HISPANIC       UNKNOWN                          Theft                          NOTICE TO APPEAR - STATE     1\n",
              "                                                                                              Traffic Offenses               INDIVIDUAL BOND              4\n",
              "                                                                                                                             NOT AVAILABLE                1\n",
              "                                                                                                                             PROMISE TO COMPLY            1\n",
              "                                              WHITE          EMPLOYED                         Battery                        TAKEN TO JAIL                1\n",
              "                                                                                                                                                         ..\n",
              "MALE          UNKNOWN                         BLACK          UNEMPLOYED                       Burglary                       TAKEN TO JAIL                1\n",
              "                                                                                              Controlled Substance Offenses  TAKEN TO JAIL                1\n",
              "                                                                                              Drug Paraphernalia Act         NOTICE TO APPEAR - STATE     1\n",
              "                                                                                                                             TAKEN TO JAIL                1\n",
              "                                                                                              Interfering w/Public Officers  TAKEN TO JAIL                1\n",
              "                                                                                              Theft                          TAKEN TO JAIL                1\n",
              "                                                                                              Trespassing                    NOTICE TO APPEAR - STATE     1\n",
              "                                                                                                                             TAKEN TO JAIL                1\n",
              "                                                                                              Warrants & Summons             TAKEN TO JAIL                4\n",
              "                                                             UNKNOWN                          Battery                        TAKEN TO JAIL                1\n",
              "                                                                                              Controlled Substance Offenses  TAKEN TO JAIL                1\n",
              "                                                                                              Criminal Damage                NOTICE TO APPEAR - STATE     1\n",
              "                                                                                              Domestic - Other Offenses      TAKEN TO JAIL                1\n",
              "                                                                                              Theft                          TAKEN TO JAIL                3\n",
              "                                                                                              Trespassing                    TAKEN TO JAIL                2\n",
              "                                                                                              Warrants & Summons             TAKEN TO JAIL                5\n",
              "                                              HISPANIC       UNEMPLOYED                       Warrants & Summons             TAKEN TO JAIL                1\n",
              "                                              WHITE          EMPLOYED                         Warrants & Summons             TAKEN TO JAIL                1\n",
              "                                                             UNEMPLOYED                       Burglary                       TAKEN TO JAIL                2\n",
              "                                                                                              Controlled Substance Offenses  TAKEN TO JAIL                1\n",
              "                                                                                              Motor Vehicle Theft            TAKEN TO JAIL                1\n",
              "                                                                                              Theft                          TAKEN TO JAIL                3\n",
              "                                                                                                                             NOTICE TO APPEAR - STATE     1\n",
              "                                                                                              Traffic Offenses               NOTICE TO APPEAR - STATE     1\n",
              "                                                                                                                             TAKEN TO JAIL                1\n",
              "                                                                                              Trespassing                    TAKEN TO JAIL                5\n",
              "                                                                                              Warrants & Summons             TAKEN TO JAIL                1\n",
              "                                                             UNKNOWN                          Battery                        TAKEN TO JAIL                1\n",
              "                                                                                              Burglary                       TAKEN TO JAIL                2\n",
              "                                                                                              Warrants & Summons             TAKEN TO JAIL                1\n",
              "Name: arrest_resolution, Length: 356, dtype: int64"
            ]
          },
          "metadata": {
            "tags": []
          },
          "execution_count": 5
        }
      ]
    },
    {
      "cell_type": "markdown",
      "metadata": {
        "id": "0NdhfJwR4UhO",
        "colab_type": "text"
      },
      "source": [
        "I chose 'arrestee_sex', 'arrestee_residency_description', 'arrestee_race', 'arrestee_employment_description', 'crime_category_description', and 'arrest_resolution' because they seems to tell a story when they are put together in a Sankey chart."
      ]
    },
    {
      "cell_type": "code",
      "metadata": {
        "id": "n3uYP09vncMA",
        "colab_type": "code",
        "colab": {
          "base_uri": "https://localhost:8080/",
          "height": 69
        },
        "outputId": "143362b1-e8a2-4205-9c2c-d6c9a35ec7aa"
      },
      "source": [
        "data.arrestee_sex.value_counts()"
      ],
      "execution_count": 6,
      "outputs": [
        {
          "output_type": "execute_result",
          "data": {
            "text/plain": [
              "MALE      617\n",
              "FEMALE    383\n",
              "Name: arrestee_sex, dtype: int64"
            ]
          },
          "metadata": {
            "tags": []
          },
          "execution_count": 6
        }
      ]
    },
    {
      "cell_type": "code",
      "metadata": {
        "id": "AIL16e-Woo5f",
        "colab_type": "code",
        "colab": {
          "base_uri": "https://localhost:8080/",
          "height": 104
        },
        "outputId": "502c0289-54e2-413c-dd43-3377cc0b0175"
      },
      "source": [
        "data.arrestee_race.value_counts()"
      ],
      "execution_count": 7,
      "outputs": [
        {
          "output_type": "execute_result",
          "data": {
            "text/plain": [
              "BLACK       552\n",
              "WHITE       357\n",
              "HISPANIC     58\n",
              "ASIAN        33\n",
              "Name: arrestee_race, dtype: int64"
            ]
          },
          "metadata": {
            "tags": []
          },
          "execution_count": 7
        }
      ]
    },
    {
      "cell_type": "code",
      "metadata": {
        "id": "bygmvNjMorEv",
        "colab_type": "code",
        "colab": {
          "base_uri": "https://localhost:8080/",
          "height": 104
        },
        "outputId": "cf990f53-8f03-47b3-e0f3-eb3080a6c916"
      },
      "source": [
        "data.arrestee_employment_description.value_counts()"
      ],
      "execution_count": 8,
      "outputs": [
        {
          "output_type": "execute_result",
          "data": {
            "text/plain": [
              "UNKNOWN              626\n",
              "UNEMPLOYED           189\n",
              "EMPLOYED             137\n",
              "FULL-TIME STUDENT     36\n",
              "Name: arrestee_employment_description, dtype: int64"
            ]
          },
          "metadata": {
            "tags": []
          },
          "execution_count": 8
        }
      ]
    },
    {
      "cell_type": "code",
      "metadata": {
        "id": "U_ULpv0_ouVS",
        "colab_type": "code",
        "colab": {
          "base_uri": "https://localhost:8080/",
          "height": 86
        },
        "outputId": "386d0c1a-e2e2-41eb-f603-08f2c2ad568e"
      },
      "source": [
        "data.arrestee_residency_description.value_counts()"
      ],
      "execution_count": 9,
      "outputs": [
        {
          "output_type": "execute_result",
          "data": {
            "text/plain": [
              "RESIDENT        466\n",
              "NON-RESIDENT    460\n",
              "UNKNOWN          69\n",
              "Name: arrestee_residency_description, dtype: int64"
            ]
          },
          "metadata": {
            "tags": []
          },
          "execution_count": 9
        }
      ]
    },
    {
      "cell_type": "code",
      "metadata": {
        "id": "1YjX2Mojoyxy",
        "colab_type": "code",
        "colab": {
          "base_uri": "https://localhost:8080/",
          "height": 34
        },
        "outputId": "087ea0c6-bf2d-40d4-d2f4-2f58e1d19963"
      },
      "source": [
        "data['arrestee_sex'].unique().tolist()"
      ],
      "execution_count": 10,
      "outputs": [
        {
          "output_type": "execute_result",
          "data": {
            "text/plain": [
              "['FEMALE', 'MALE']"
            ]
          },
          "metadata": {
            "tags": []
          },
          "execution_count": 10
        }
      ]
    },
    {
      "cell_type": "code",
      "metadata": {
        "id": "UwrX4VCzo4WM",
        "colab_type": "code",
        "colab": {
          "base_uri": "https://localhost:8080/",
          "height": 694
        },
        "outputId": "6a47e38a-d5a4-43bf-d370-599c767e94db"
      },
      "source": [
        "data.crime_category_description.value_counts()"
      ],
      "execution_count": 11,
      "outputs": [
        {
          "output_type": "execute_result",
          "data": {
            "text/plain": [
              "Traffic Offenses                 528\n",
              "Warrants & Summons                97\n",
              "Theft                             72\n",
              "Battery                           71\n",
              "Interfering w/Public Officers     25\n",
              "Controlled Substance Offenses     23\n",
              "Weapons Offenses                  20\n",
              "Trespassing                       19\n",
              "Burglary                          15\n",
              "Driving Under the Influence       12\n",
              "Animal Offenses                   10\n",
              "Drug Paraphernalia Act            10\n",
              "Criminal Damage                    9\n",
              "Disorderly Conduct                 9\n",
              "Assault                            8\n",
              "Robbery                            7\n",
              "Motor Vehicle Theft                7\n",
              "Offenses Involving Children        6\n",
              "Domestic - Other Offenses          6\n",
              "Liquor Offenses                    6\n",
              "Kidnapping                         5\n",
              "Cannabis Offenses                  4\n",
              "Noise & Vibrations Violations      4\n",
              "Deception & Fraud                  4\n",
              "Criminal Sexual Assault            3\n",
              "Status Offenses                    3\n",
              "Violation Ord Protect/No Cont      2\n",
              "Burglary from Motor Vehicle        2\n",
              "Waste Management Offenses          2\n",
              "Prob/Parole/Bail Violations        2\n",
              "Sex Offenses                       2\n",
              "Hypo Syringes & Needles Act        1\n",
              "Accident                           1\n",
              "Bicycle Offenses                   1\n",
              "Arson                              1\n",
              "Methamphetamine Offenses           1\n",
              "Violation of Crim Reg Laws         1\n",
              "Intimidation                       1\n",
              "Name: crime_category_description, dtype: int64"
            ]
          },
          "metadata": {
            "tags": []
          },
          "execution_count": 11
        }
      ]
    },
    {
      "cell_type": "markdown",
      "metadata": {
        "id": "gpXx1VuE4yoT",
        "colab_type": "text"
      },
      "source": [
        "Generally, the data is concise and clean."
      ]
    },
    {
      "cell_type": "code",
      "metadata": {
        "id": "S4Oe_Zw2pElV",
        "colab_type": "code",
        "colab": {
          "base_uri": "https://localhost:8080/",
          "height": 52
        },
        "outputId": "2a0bf2a8-e5a6-41a8-9eba-b5bc91bf337c"
      },
      "source": [
        "import json as jn\n",
        "\n",
        "json = dict()\n",
        "json['nodes'] = list()\n",
        "node = dict()\n",
        "node['name'] = 'value'\n",
        "json['nodes'].append(node)\n",
        "\n",
        "json['links'] = list()\n",
        "link = dict()\n",
        "link['source'] = 0\n",
        "link['dest'] = 1\n",
        "link['value'] = 100\n",
        "json['links'].append(link)\n",
        "\n",
        "print(json)\n",
        "print(jn.dumps(json))"
      ],
      "execution_count": 12,
      "outputs": [
        {
          "output_type": "stream",
          "text": [
            "{'nodes': [{'name': 'value'}], 'links': [{'source': 0, 'dest': 1, 'value': 100}]}\n",
            "{\"nodes\": [{\"name\": \"value\"}], \"links\": [{\"source\": 0, \"dest\": 1, \"value\": 100}]}\n"
          ],
          "name": "stdout"
        }
      ]
    },
    {
      "cell_type": "markdown",
      "metadata": {
        "id": "i0mOTz7F5IIV",
        "colab_type": "text"
      },
      "source": [
        "Above is the requirerd data structure for D3.js Sankey chart. "
      ]
    },
    {
      "cell_type": "code",
      "metadata": {
        "id": "EXlYzJvauvYJ",
        "colab_type": "code",
        "colab": {
          "base_uri": "https://localhost:8080/",
          "height": 72
        },
        "outputId": "5056cc4e-5446-4516-9ec4-fe9e1280680b"
      },
      "source": [
        "nodes = ['arrestee_sex', 'arrestee_residency_description', 'arrestee_race', 'arrestee_employment_description', 'crime_category_description', 'arrest_resolution']\n",
        "index = dict()\n",
        "\n",
        "json = dict()\n",
        "json['nodes'] = list()\n",
        "\n",
        "count = 0;\n",
        "for node in nodes:\n",
        "  for value in data[node].unique().tolist():\n",
        "    json['nodes'].append({'name': value})\n",
        "    index[value] = count\n",
        "    count += 1\n",
        "    \n",
        "json['links'] = list()\n",
        "\n",
        "    \n",
        "print(jn.dumps(json))\n",
        "print(index)"
      ],
      "execution_count": 13,
      "outputs": [
        {
          "output_type": "stream",
          "text": [
            "{\"nodes\": [{\"name\": \"FEMALE\"}, {\"name\": \"MALE\"}, {\"name\": \"RESIDENT\"}, {\"name\": \"NON-RESIDENT\"}, {\"name\": \"UNKNOWN\"}, {\"name\": NaN}, {\"name\": \"BLACK\"}, {\"name\": \"ASIAN\"}, {\"name\": \"HISPANIC\"}, {\"name\": \"WHITE\"}, {\"name\": \"FULL-TIME STUDENT\"}, {\"name\": \"UNEMPLOYED\"}, {\"name\": \"UNKNOWN\"}, {\"name\": NaN}, {\"name\": \"EMPLOYED\"}, {\"name\": \"Noise & Vibrations Violations\"}, {\"name\": \"Battery\"}, {\"name\": \"Liquor Offenses\"}, {\"name\": \"Driving Under the Influence\"}, {\"name\": \"Traffic Offenses\"}, {\"name\": \"Interfering w/Public Officers\"}, {\"name\": \"Weapons Offenses\"}, {\"name\": \"Theft\"}, {\"name\": \"Disorderly Conduct\"}, {\"name\": \"Controlled Substance Offenses\"}, {\"name\": \"Warrants & Summons\"}, {\"name\": \"Sex Offenses\"}, {\"name\": \"Prob/Parole/Bail Violations\"}, {\"name\": \"Assault\"}, {\"name\": \"Drug Paraphernalia Act\"}, {\"name\": \"Burglary\"}, {\"name\": \"Hypo Syringes & Needles Act\"}, {\"name\": \"Cannabis Offenses\"}, {\"name\": \"Kidnapping\"}, {\"name\": \"Criminal Damage\"}, {\"name\": \"Criminal Sexual Assault\"}, {\"name\": \"Trespassing\"}, {\"name\": \"Motor Vehicle Theft\"}, {\"name\": \"Violation of Crim Reg Laws\"}, {\"name\": \"Offenses Involving Children\"}, {\"name\": \"Robbery\"}, {\"name\": \"Animal Offenses\"}, {\"name\": \"Waste Management Offenses\"}, {\"name\": \"Burglary from Motor Vehicle\"}, {\"name\": \"Violation Ord Protect/No Cont\"}, {\"name\": \"Domestic - Other Offenses\"}, {\"name\": \"Status Offenses\"}, {\"name\": \"Arson\"}, {\"name\": \"Deception & Fraud\"}, {\"name\": \"Methamphetamine Offenses\"}, {\"name\": \"Bicycle Offenses\"}, {\"name\": \"Accident\"}, {\"name\": \"Intimidation\"}, {\"name\": \"NOTICE TO APPEAR - CITY\"}, {\"name\": \"TAKEN TO JAIL\"}, {\"name\": \"NOTICE TO APPEAR - STATE\"}, {\"name\": \"PROMISE TO COMPLY\"}, {\"name\": \"INDIVIDUAL BOND\"}, {\"name\": \"NOT AVAILABLE\"}], \"links\": []}\n",
            "{'FEMALE': 0, 'MALE': 1, 'RESIDENT': 2, 'NON-RESIDENT': 3, 'UNKNOWN': 12, nan: 13, 'BLACK': 6, 'ASIAN': 7, 'HISPANIC': 8, 'WHITE': 9, 'FULL-TIME STUDENT': 10, 'UNEMPLOYED': 11, 'EMPLOYED': 14, 'Noise & Vibrations Violations': 15, 'Battery': 16, 'Liquor Offenses': 17, 'Driving Under the Influence': 18, 'Traffic Offenses': 19, 'Interfering w/Public Officers': 20, 'Weapons Offenses': 21, 'Theft': 22, 'Disorderly Conduct': 23, 'Controlled Substance Offenses': 24, 'Warrants & Summons': 25, 'Sex Offenses': 26, 'Prob/Parole/Bail Violations': 27, 'Assault': 28, 'Drug Paraphernalia Act': 29, 'Burglary': 30, 'Hypo Syringes & Needles Act': 31, 'Cannabis Offenses': 32, 'Kidnapping': 33, 'Criminal Damage': 34, 'Criminal Sexual Assault': 35, 'Trespassing': 36, 'Motor Vehicle Theft': 37, 'Violation of Crim Reg Laws': 38, 'Offenses Involving Children': 39, 'Robbery': 40, 'Animal Offenses': 41, 'Waste Management Offenses': 42, 'Burglary from Motor Vehicle': 43, 'Violation Ord Protect/No Cont': 44, 'Domestic - Other Offenses': 45, 'Status Offenses': 46, 'Arson': 47, 'Deception & Fraud': 48, 'Methamphetamine Offenses': 49, 'Bicycle Offenses': 50, 'Accident': 51, 'Intimidation': 52, 'NOTICE TO APPEAR - CITY': 53, 'TAKEN TO JAIL': 54, 'NOTICE TO APPEAR - STATE': 55, 'PROMISE TO COMPLY': 56, 'INDIVIDUAL BOND': 57, 'NOT AVAILABLE': 58}\n"
          ],
          "name": "stdout"
        }
      ]
    },
    {
      "cell_type": "markdown",
      "metadata": {
        "id": "DxHVHfFE5UH3",
        "colab_type": "text"
      },
      "source": [
        "'nodes' is a list of chosen columns.\n",
        "'index' is used for looking up correct index value for source and dest in link creation.\n",
        "\n",
        "Adding the nodes is trivial and the index dictionary seems to be okay. \n",
        "There are NAN in the data structures but it'll be ignored unless an issue occurs."
      ]
    },
    {
      "cell_type": "code",
      "metadata": {
        "id": "Z4ylLglQwdim",
        "colab_type": "code",
        "colab": {
          "base_uri": "https://localhost:8080/",
          "height": 54
        },
        "outputId": "659469e4-5748-478c-8225-c675cf6a453d"
      },
      "source": [
        "male = data[data['arrestee_sex'] == 'MALE']\n",
        "female = data[data['arrestee_sex'] == 'FEMALE']\n",
        "sex_res = male['arrestee_residency_description'].value_counts(dropna=False)\n",
        "\n",
        "for sex in data['arrestee_sex'].unique().tolist():\n",
        "  sex_data = data[data['arrestee_sex'] == sex]\n",
        "  sex_res_data = sex_data['arrestee_residency_description'].value_counts(dropna=False)\n",
        "  for key, val in sex_res_data.to_dict().items():\n",
        "    link = {'source': index[sex], 'target': index[key], 'value': val}\n",
        "    json['links'].append(link)\n",
        "\n",
        "\n",
        "def create_links(source, dest):\n",
        "  for sex in data[source].unique().tolist():\n",
        "    sex_data = data[data[source] == sex]\n",
        "    sex_res_data = sex_data[dest].value_counts(dropna=False)\n",
        "    for key, val in sex_res_data.to_dict().items():\n",
        "      link = {'source': index[sex], 'target': index[key], 'value': val}\n",
        "      json['links'].append(link)\n",
        "      \n",
        "source = 'arrestee_residency_description'\n",
        "dest = 'arrestee_race'\n",
        "create_links(source, dest)\n",
        "\n",
        "print(jn.dumps(json))"
      ],
      "execution_count": 14,
      "outputs": [
        {
          "output_type": "stream",
          "text": [
            "{\"nodes\": [{\"name\": \"FEMALE\"}, {\"name\": \"MALE\"}, {\"name\": \"RESIDENT\"}, {\"name\": \"NON-RESIDENT\"}, {\"name\": \"UNKNOWN\"}, {\"name\": NaN}, {\"name\": \"BLACK\"}, {\"name\": \"ASIAN\"}, {\"name\": \"HISPANIC\"}, {\"name\": \"WHITE\"}, {\"name\": \"FULL-TIME STUDENT\"}, {\"name\": \"UNEMPLOYED\"}, {\"name\": \"UNKNOWN\"}, {\"name\": NaN}, {\"name\": \"EMPLOYED\"}, {\"name\": \"Noise & Vibrations Violations\"}, {\"name\": \"Battery\"}, {\"name\": \"Liquor Offenses\"}, {\"name\": \"Driving Under the Influence\"}, {\"name\": \"Traffic Offenses\"}, {\"name\": \"Interfering w/Public Officers\"}, {\"name\": \"Weapons Offenses\"}, {\"name\": \"Theft\"}, {\"name\": \"Disorderly Conduct\"}, {\"name\": \"Controlled Substance Offenses\"}, {\"name\": \"Warrants & Summons\"}, {\"name\": \"Sex Offenses\"}, {\"name\": \"Prob/Parole/Bail Violations\"}, {\"name\": \"Assault\"}, {\"name\": \"Drug Paraphernalia Act\"}, {\"name\": \"Burglary\"}, {\"name\": \"Hypo Syringes & Needles Act\"}, {\"name\": \"Cannabis Offenses\"}, {\"name\": \"Kidnapping\"}, {\"name\": \"Criminal Damage\"}, {\"name\": \"Criminal Sexual Assault\"}, {\"name\": \"Trespassing\"}, {\"name\": \"Motor Vehicle Theft\"}, {\"name\": \"Violation of Crim Reg Laws\"}, {\"name\": \"Offenses Involving Children\"}, {\"name\": \"Robbery\"}, {\"name\": \"Animal Offenses\"}, {\"name\": \"Waste Management Offenses\"}, {\"name\": \"Burglary from Motor Vehicle\"}, {\"name\": \"Violation Ord Protect/No Cont\"}, {\"name\": \"Domestic - Other Offenses\"}, {\"name\": \"Status Offenses\"}, {\"name\": \"Arson\"}, {\"name\": \"Deception & Fraud\"}, {\"name\": \"Methamphetamine Offenses\"}, {\"name\": \"Bicycle Offenses\"}, {\"name\": \"Accident\"}, {\"name\": \"Intimidation\"}, {\"name\": \"NOTICE TO APPEAR - CITY\"}, {\"name\": \"TAKEN TO JAIL\"}, {\"name\": \"NOTICE TO APPEAR - STATE\"}, {\"name\": \"PROMISE TO COMPLY\"}, {\"name\": \"INDIVIDUAL BOND\"}, {\"name\": \"NOT AVAILABLE\"}], \"links\": [{\"source\": 0, \"target\": 3, \"value\": 195}, {\"source\": 0, \"target\": 2, \"value\": 169}, {\"source\": 0, \"target\": 12, \"value\": 15}, {\"source\": 0, \"target\": 13, \"value\": 4}, {\"source\": 1, \"target\": 2, \"value\": 297}, {\"source\": 1, \"target\": 3, \"value\": 265}, {\"source\": 1, \"target\": 12, \"value\": 54}, {\"source\": 1, \"target\": 13, \"value\": 1}, {\"source\": 2, \"target\": 6, \"value\": 294}, {\"source\": 2, \"target\": 9, \"value\": 132}, {\"source\": 2, \"target\": 8, \"value\": 27}, {\"source\": 2, \"target\": 7, \"value\": 13}, {\"source\": 3, \"target\": 6, \"value\": 212}, {\"source\": 3, \"target\": 9, \"value\": 198}, {\"source\": 3, \"target\": 8, \"value\": 30}, {\"source\": 3, \"target\": 7, \"value\": 20}, {\"source\": 12, \"target\": 6, \"value\": 42}, {\"source\": 12, \"target\": 9, \"value\": 26}, {\"source\": 12, \"target\": 8, \"value\": 1}]}\n"
          ],
          "name": "stdout"
        }
      ]
    },
    {
      "cell_type": "markdown",
      "metadata": {
        "id": "zlYXlRwj6H5c",
        "colab_type": "text"
      },
      "source": [
        "Synthesis of the link creation function is broken into: trial by examples, using variables, writing a function.\n",
        "create_links function takes in source and dest column labels and correctly creates the links.\n",
        "There is no time for unit testing, the best testing will be the visualization itself."
      ]
    },
    {
      "cell_type": "code",
      "metadata": {
        "id": "V_Rilb3axjI7",
        "colab_type": "code",
        "colab": {
          "base_uri": "https://localhost:8080/",
          "height": 104
        },
        "outputId": "c7f32d2e-4921-43e4-f0e8-0406c8ede7cc"
      },
      "source": [
        "from nltk.util import ngrams\n",
        "\n",
        "bigram = list(ngrams(nodes, 2))\n",
        "bigram"
      ],
      "execution_count": 15,
      "outputs": [
        {
          "output_type": "execute_result",
          "data": {
            "text/plain": [
              "[('arrestee_sex', 'arrestee_residency_description'),\n",
              " ('arrestee_residency_description', 'arrestee_race'),\n",
              " ('arrestee_race', 'arrestee_employment_description'),\n",
              " ('arrestee_employment_description', 'crime_category_description'),\n",
              " ('crime_category_description', 'arrest_resolution')]"
            ]
          },
          "metadata": {
            "tags": []
          },
          "execution_count": 15
        }
      ]
    },
    {
      "cell_type": "markdown",
      "metadata": {
        "id": "18_LYloG7vk6",
        "colab_type": "text"
      },
      "source": [
        "Using NLTK's ngram, the sources and targets are correctly organized for the create_links function.\n",
        "\n",
        "> Indented block\n",
        "\n"
      ]
    },
    {
      "cell_type": "code",
      "metadata": {
        "id": "QszvMDgXzZHu",
        "colab_type": "code",
        "colab": {
          "base_uri": "https://localhost:8080/",
          "height": 54
        },
        "outputId": "5a99c477-9e2e-404c-b4ac-03d768b126b7"
      },
      "source": [
        "nodes = ['arrestee_sex', 'arrestee_residency_description', 'arrestee_race', 'arrestee_employment_description', 'crime_category_description', 'arrest_resolution']\n",
        "index = dict()\n",
        "\n",
        "json = dict()\n",
        "json['nodes'] = list()\n",
        "\n",
        "count = 0;\n",
        "for node in nodes:\n",
        "  for value in data[node].unique().tolist():\n",
        "    json['nodes'].append({'name': value})\n",
        "    index[value] = count\n",
        "    count += 1\n",
        "    \n",
        "json['links'] = list()\n",
        "\n",
        "for gram in bigram:\n",
        "  create_links(gram[0], gram[1])\n",
        "  \n",
        "  \n",
        "print(jn.dumps(json))"
      ],
      "execution_count": 16,
      "outputs": [
        {
          "output_type": "stream",
          "text": [
            "{\"nodes\": [{\"name\": \"FEMALE\"}, {\"name\": \"MALE\"}, {\"name\": \"RESIDENT\"}, {\"name\": \"NON-RESIDENT\"}, {\"name\": \"UNKNOWN\"}, {\"name\": NaN}, {\"name\": \"BLACK\"}, {\"name\": \"ASIAN\"}, {\"name\": \"HISPANIC\"}, {\"name\": \"WHITE\"}, {\"name\": \"FULL-TIME STUDENT\"}, {\"name\": \"UNEMPLOYED\"}, {\"name\": \"UNKNOWN\"}, {\"name\": NaN}, {\"name\": \"EMPLOYED\"}, {\"name\": \"Noise & Vibrations Violations\"}, {\"name\": \"Battery\"}, {\"name\": \"Liquor Offenses\"}, {\"name\": \"Driving Under the Influence\"}, {\"name\": \"Traffic Offenses\"}, {\"name\": \"Interfering w/Public Officers\"}, {\"name\": \"Weapons Offenses\"}, {\"name\": \"Theft\"}, {\"name\": \"Disorderly Conduct\"}, {\"name\": \"Controlled Substance Offenses\"}, {\"name\": \"Warrants & Summons\"}, {\"name\": \"Sex Offenses\"}, {\"name\": \"Prob/Parole/Bail Violations\"}, {\"name\": \"Assault\"}, {\"name\": \"Drug Paraphernalia Act\"}, {\"name\": \"Burglary\"}, {\"name\": \"Hypo Syringes & Needles Act\"}, {\"name\": \"Cannabis Offenses\"}, {\"name\": \"Kidnapping\"}, {\"name\": \"Criminal Damage\"}, {\"name\": \"Criminal Sexual Assault\"}, {\"name\": \"Trespassing\"}, {\"name\": \"Motor Vehicle Theft\"}, {\"name\": \"Violation of Crim Reg Laws\"}, {\"name\": \"Offenses Involving Children\"}, {\"name\": \"Robbery\"}, {\"name\": \"Animal Offenses\"}, {\"name\": \"Waste Management Offenses\"}, {\"name\": \"Burglary from Motor Vehicle\"}, {\"name\": \"Violation Ord Protect/No Cont\"}, {\"name\": \"Domestic - Other Offenses\"}, {\"name\": \"Status Offenses\"}, {\"name\": \"Arson\"}, {\"name\": \"Deception & Fraud\"}, {\"name\": \"Methamphetamine Offenses\"}, {\"name\": \"Bicycle Offenses\"}, {\"name\": \"Accident\"}, {\"name\": \"Intimidation\"}, {\"name\": \"NOTICE TO APPEAR - CITY\"}, {\"name\": \"TAKEN TO JAIL\"}, {\"name\": \"NOTICE TO APPEAR - STATE\"}, {\"name\": \"PROMISE TO COMPLY\"}, {\"name\": \"INDIVIDUAL BOND\"}, {\"name\": \"NOT AVAILABLE\"}], \"links\": [{\"source\": 0, \"target\": 3, \"value\": 195}, {\"source\": 0, \"target\": 2, \"value\": 169}, {\"source\": 0, \"target\": 12, \"value\": 15}, {\"source\": 0, \"target\": 13, \"value\": 4}, {\"source\": 1, \"target\": 2, \"value\": 297}, {\"source\": 1, \"target\": 3, \"value\": 265}, {\"source\": 1, \"target\": 12, \"value\": 54}, {\"source\": 1, \"target\": 13, \"value\": 1}, {\"source\": 2, \"target\": 6, \"value\": 294}, {\"source\": 2, \"target\": 9, \"value\": 132}, {\"source\": 2, \"target\": 8, \"value\": 27}, {\"source\": 2, \"target\": 7, \"value\": 13}, {\"source\": 3, \"target\": 6, \"value\": 212}, {\"source\": 3, \"target\": 9, \"value\": 198}, {\"source\": 3, \"target\": 8, \"value\": 30}, {\"source\": 3, \"target\": 7, \"value\": 20}, {\"source\": 12, \"target\": 6, \"value\": 42}, {\"source\": 12, \"target\": 9, \"value\": 26}, {\"source\": 12, \"target\": 8, \"value\": 1}, {\"source\": 6, \"target\": 12, \"value\": 307}, {\"source\": 6, \"target\": 11, \"value\": 115}, {\"source\": 6, \"target\": 14, \"value\": 89}, {\"source\": 6, \"target\": 10, \"value\": 33}, {\"source\": 6, \"target\": 13, \"value\": 8}, {\"source\": 7, \"target\": 12, \"value\": 29}, {\"source\": 7, \"target\": 13, \"value\": 3}, {\"source\": 7, \"target\": 10, \"value\": 1}, {\"source\": 8, \"target\": 12, \"value\": 38}, {\"source\": 8, \"target\": 14, \"value\": 11}, {\"source\": 8, \"target\": 11, \"value\": 9}, {\"source\": 9, \"target\": 12, \"value\": 252}, {\"source\": 9, \"target\": 11, \"value\": 65}, {\"source\": 9, \"target\": 14, \"value\": 37}, {\"source\": 9, \"target\": 10, \"value\": 2}, {\"source\": 9, \"target\": 13, \"value\": 1}, {\"source\": 10, \"target\": 22, \"value\": 13}, {\"source\": 10, \"target\": 46, \"value\": 3}, {\"source\": 10, \"target\": 16, \"value\": 3}, {\"source\": 10, \"target\": 21, \"value\": 3}, {\"source\": 10, \"target\": 28, \"value\": 2}, {\"source\": 10, \"target\": 30, \"value\": 2}, {\"source\": 10, \"target\": 20, \"value\": 2}, {\"source\": 10, \"target\": 23, \"value\": 2}, {\"source\": 10, \"target\": 40, \"value\": 2}, {\"source\": 10, \"target\": 34, \"value\": 1}, {\"source\": 10, \"target\": 25, \"value\": 1}, {\"source\": 10, \"target\": 15, \"value\": 1}, {\"source\": 10, \"target\": 19, \"value\": 1}, {\"source\": 11, \"target\": 25, \"value\": 40}, {\"source\": 11, \"target\": 16, \"value\": 26}, {\"source\": 11, \"target\": 19, \"value\": 25}, {\"source\": 11, \"target\": 22, \"value\": 22}, {\"source\": 11, \"target\": 36, \"value\": 13}, {\"source\": 11, \"target\": 24, \"value\": 9}, {\"source\": 11, \"target\": 29, \"value\": 5}, {\"source\": 11, \"target\": 30, \"value\": 5}, {\"source\": 11, \"target\": 20, \"value\": 4}, {\"source\": 11, \"target\": 37, \"value\": 4}, {\"source\": 11, \"target\": 21, \"value\": 4}, {\"source\": 11, \"target\": 28, \"value\": 3}, {\"source\": 11, \"target\": 32, \"value\": 3}, {\"source\": 11, \"target\": 23, \"value\": 3}, {\"source\": 11, \"target\": 18, \"value\": 3}, {\"source\": 11, \"target\": 40, \"value\": 2}, {\"source\": 11, \"target\": 39, \"value\": 2}, {\"source\": 11, \"target\": 27, \"value\": 2}, {\"source\": 11, \"target\": 35, \"value\": 2}, {\"source\": 11, \"target\": 47, \"value\": 1}, {\"source\": 11, \"target\": 45, \"value\": 1}, {\"source\": 11, \"target\": 48, \"value\": 1}, {\"source\": 11, \"target\": 43, \"value\": 1}, {\"source\": 11, \"target\": 41, \"value\": 1}, {\"source\": 11, \"target\": 26, \"value\": 1}, {\"source\": 11, \"target\": 33, \"value\": 1}, {\"source\": 11, \"target\": 31, \"value\": 1}, {\"source\": 11, \"target\": 17, \"value\": 1}, {\"source\": 11, \"target\": 34, \"value\": 1}, {\"source\": 11, \"target\": 38, \"value\": 1}, {\"source\": 11, \"target\": 15, \"value\": 1}, {\"source\": 12, \"target\": 19, \"value\": 482}, {\"source\": 12, \"target\": 25, \"value\": 33}, {\"source\": 12, \"target\": 22, \"value\": 21}, {\"source\": 12, \"target\": 16, \"value\": 16}, {\"source\": 12, \"target\": 21, \"value\": 13}, {\"source\": 12, \"target\": 41, \"value\": 8}, {\"source\": 12, \"target\": 20, \"value\": 7}, {\"source\": 12, \"target\": 24, \"value\": 7}, {\"source\": 12, \"target\": 23, \"value\": 4}, {\"source\": 12, \"target\": 30, \"value\": 4}, {\"source\": 12, \"target\": 36, \"value\": 4}, {\"source\": 12, \"target\": 34, \"value\": 4}, {\"source\": 12, \"target\": 45, \"value\": 3}, {\"source\": 12, \"target\": 33, \"value\": 3}, {\"source\": 12, \"target\": 17, \"value\": 3}, {\"source\": 12, \"target\": 40, \"value\": 2}, {\"source\": 12, \"target\": 28, \"value\": 2}, {\"source\": 12, \"target\": 42, \"value\": 2}, {\"source\": 12, \"target\": 49, \"value\": 1}, {\"source\": 12, \"target\": 51, \"value\": 1}, {\"source\": 12, \"target\": 15, \"value\": 1}, {\"source\": 12, \"target\": 18, \"value\": 1}, {\"source\": 12, \"target\": 39, \"value\": 1}, {\"source\": 12, \"target\": 43, \"value\": 1}, {\"source\": 12, \"target\": 37, \"value\": 1}, {\"source\": 12, \"target\": 29, \"value\": 1}, {\"source\": 14, \"target\": 16, \"value\": 25}, {\"source\": 14, \"target\": 25, \"value\": 21}, {\"source\": 14, \"target\": 19, \"value\": 19}, {\"source\": 14, \"target\": 22, \"value\": 11}, {\"source\": 14, \"target\": 20, \"value\": 10}, {\"source\": 14, \"target\": 18, \"value\": 8}, {\"source\": 14, \"target\": 24, \"value\": 7}, {\"source\": 14, \"target\": 29, \"value\": 4}, {\"source\": 14, \"target\": 30, \"value\": 4}, {\"source\": 14, \"target\": 48, \"value\": 3}, {\"source\": 14, \"target\": 34, \"value\": 3}, {\"source\": 14, \"target\": 39, \"value\": 3}, {\"source\": 14, \"target\": 36, \"value\": 2}, {\"source\": 14, \"target\": 17, \"value\": 2}, {\"source\": 14, \"target\": 37, \"value\": 2}, {\"source\": 14, \"target\": 45, \"value\": 2}, {\"source\": 14, \"target\": 44, \"value\": 2}, {\"source\": 14, \"target\": 40, \"value\": 1}, {\"source\": 14, \"target\": 33, \"value\": 1}, {\"source\": 14, \"target\": 35, \"value\": 1}, {\"source\": 14, \"target\": 15, \"value\": 1}, {\"source\": 14, \"target\": 41, \"value\": 1}, {\"source\": 14, \"target\": 28, \"value\": 1}, {\"source\": 14, \"target\": 52, \"value\": 1}, {\"source\": 14, \"target\": 26, \"value\": 1}, {\"source\": 14, \"target\": 32, \"value\": 1}, {\"source\": 15, \"target\": 53, \"value\": 4}, {\"source\": 16, \"target\": 54, \"value\": 63}, {\"source\": 16, \"target\": 58, \"value\": 4}, {\"source\": 16, \"target\": 55, \"value\": 4}, {\"source\": 17, \"target\": 54, \"value\": 4}, {\"source\": 17, \"target\": 56, \"value\": 2}, {\"source\": 18, \"target\": 54, \"value\": 12}, {\"source\": 19, \"target\": 57, \"value\": 263}, {\"source\": 19, \"target\": 56, \"value\": 183}, {\"source\": 19, \"target\": 54, \"value\": 58}, {\"source\": 19, \"target\": 55, \"value\": 22}, {\"source\": 19, \"target\": 58, \"value\": 2}, {\"source\": 20, \"target\": 54, \"value\": 20}, {\"source\": 20, \"target\": 58, \"value\": 4}, {\"source\": 20, \"target\": 55, \"value\": 1}, {\"source\": 21, \"target\": 54, \"value\": 11}, {\"source\": 21, \"target\": 58, \"value\": 8}, {\"source\": 21, \"target\": 55, \"value\": 1}, {\"source\": 22, \"target\": 54, \"value\": 26}, {\"source\": 22, \"target\": 55, \"value\": 20}, {\"source\": 22, \"target\": 58, \"value\": 16}, {\"source\": 22, \"target\": 53, \"value\": 10}, {\"source\": 23, \"target\": 54, \"value\": 5}, {\"source\": 23, \"target\": 55, \"value\": 3}, {\"source\": 23, \"target\": 58, \"value\": 1}, {\"source\": 24, \"target\": 54, \"value\": 21}, {\"source\": 24, \"target\": 55, \"value\": 2}, {\"source\": 25, \"target\": 54, \"value\": 95}, {\"source\": 25, \"target\": 58, \"value\": 2}, {\"source\": 26, \"target\": 54, \"value\": 2}, {\"source\": 27, \"target\": 54, \"value\": 2}, {\"source\": 28, \"target\": 54, \"value\": 5}, {\"source\": 28, \"target\": 55, \"value\": 2}, {\"source\": 28, \"target\": 58, \"value\": 1}, {\"source\": 29, \"target\": 54, \"value\": 7}, {\"source\": 29, \"target\": 55, \"value\": 2}, {\"source\": 29, \"target\": 53, \"value\": 1}, {\"source\": 30, \"target\": 54, \"value\": 11}, {\"source\": 30, \"target\": 58, \"value\": 3}, {\"source\": 30, \"target\": 55, \"value\": 1}, {\"source\": 31, \"target\": 54, \"value\": 1}, {\"source\": 32, \"target\": 54, \"value\": 3}, {\"source\": 32, \"target\": 53, \"value\": 1}, {\"source\": 33, \"target\": 55, \"value\": 4}, {\"source\": 33, \"target\": 54, \"value\": 1}, {\"source\": 34, \"target\": 54, \"value\": 4}, {\"source\": 34, \"target\": 58, \"value\": 3}, {\"source\": 34, \"target\": 55, \"value\": 1}, {\"source\": 34, \"target\": 53, \"value\": 1}, {\"source\": 35, \"target\": 54, \"value\": 3}, {\"source\": 36, \"target\": 54, \"value\": 17}, {\"source\": 36, \"target\": 58, \"value\": 1}, {\"source\": 36, \"target\": 55, \"value\": 1}, {\"source\": 37, \"target\": 54, \"value\": 5}, {\"source\": 37, \"target\": 58, \"value\": 2}, {\"source\": 38, \"target\": 55, \"value\": 1}, {\"source\": 39, \"target\": 54, \"value\": 4}, {\"source\": 39, \"target\": 55, \"value\": 2}, {\"source\": 40, \"target\": 58, \"value\": 4}, {\"source\": 40, \"target\": 54, \"value\": 3}, {\"source\": 41, \"target\": 53, \"value\": 9}, {\"source\": 41, \"target\": 54, \"value\": 1}, {\"source\": 42, \"target\": 53, \"value\": 2}, {\"source\": 43, \"target\": 54, \"value\": 1}, {\"source\": 43, \"target\": 55, \"value\": 1}, {\"source\": 44, \"target\": 54, \"value\": 2}, {\"source\": 45, \"target\": 54, \"value\": 6}, {\"source\": 46, \"target\": 58, \"value\": 3}, {\"source\": 47, \"target\": 54, \"value\": 1}, {\"source\": 48, \"target\": 54, \"value\": 4}, {\"source\": 49, \"target\": 54, \"value\": 1}, {\"source\": 50, \"target\": 53, \"value\": 1}, {\"source\": 51, \"target\": 55, \"value\": 1}, {\"source\": 52, \"target\": 54, \"value\": 1}]}\n"
          ],
          "name": "stdout"
        }
      ]
    },
    {
      "cell_type": "markdown",
      "metadata": {
        "id": "NMr37QKy87yN",
        "colab_type": "text"
      },
      "source": [
        "Now, the data is in correct format for Sankey diagram."
      ]
    },
    {
      "cell_type": "code",
      "metadata": {
        "id": "GE0Rn7Y71pCV",
        "colab_type": "code",
        "colab": {}
      },
      "source": [
        "with open('data.json', 'w') as file:\n",
        "    jn.dump(json, file)"
      ],
      "execution_count": 0,
      "outputs": []
    },
    {
      "cell_type": "markdown",
      "metadata": {
        "id": "nibhkNytBNT8",
        "colab_type": "text"
      },
      "source": [
        "Use Flow-o-matic: https://observablehq.com/@mbostock/flow-o-matic to save time.\n",
        "\n",
        "JSON Online Viewer: http://jsonviewer.stack.hu/\n",
        "\n",
        "D3.js Sankey: https://github.com/d3/d3-sankey"
      ]
    }
  ]
}