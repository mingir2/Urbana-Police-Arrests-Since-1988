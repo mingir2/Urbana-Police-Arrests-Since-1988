{
  "nbformat": 4,
  "nbformat_minor": 0,
  "metadata": {
    "colab": {
      "name": "Urbana Police Arrests Since 1988.ipynb",
      "provenance": [],
      "collapsed_sections": []
    },
    "kernelspec": {
      "name": "python3",
      "display_name": "Python 3"
    }
  },
  "cells": [
    {
      "cell_type": "code",
      "metadata": {
        "id": "GDfvB2zglsi0",
        "colab_type": "code",
        "colab": {}
      },
      "source": [
        "import pandas as pd\n",
        "import matplotlib.pyplot as plt\n",
        "import json"
      ],
      "execution_count": 0,
      "outputs": []
    },
    {
      "cell_type": "code",
      "metadata": {
        "id": "73QqhzHClSHG",
        "colab_type": "code",
        "colab": {}
      },
      "source": [
        "api_url = \"https://data.urbanaillinois.us/resource/afbd-8beq.csv\""
      ],
      "execution_count": 0,
      "outputs": []
    },
    {
      "cell_type": "markdown",
      "metadata": {
        "id": "buz029_tBGRe",
        "colab_type": "text"
      },
      "source": [
        "The source link of the data: https://data.urbanaillinois.us/Police/Urbana-Police-Arrests-Since-1988/afbd-8beq"
      ]
    },
    {
      "cell_type": "code",
      "metadata": {
        "id": "ENjubPEAmB0t",
        "colab_type": "code",
        "colab": {}
      },
      "source": [
        "df = pd.read_csv(api_url, delimiter = ',')"
      ],
      "execution_count": 0,
      "outputs": []
    },
    {
      "cell_type": "code",
      "metadata": {
        "id": "vQUUUaD5S5GU",
        "colab_type": "code",
        "outputId": "ee5853f1-2da2-492b-92d3-2e43b9dfad07",
        "colab": {
          "base_uri": "https://localhost:8080/",
          "height": 503
        }
      },
      "source": [
        "columns = ['arrestee_sex', 'arrestee_race', 'arrestee_residency_description', 'arrest_resolution']\n",
        "\n",
        "for column in columns:\n",
        "  print(column + '\\n')  \n",
        "  print(df[column].value_counts())"
      ],
      "execution_count": 4,
      "outputs": [
        {
          "output_type": "stream",
          "text": [
            "arrestee_sex\n",
            "\n",
            "MALE      611\n",
            "FEMALE    389\n",
            "Name: arrestee_sex, dtype: int64\n",
            "arrestee_race\n",
            "\n",
            "BLACK                      520\n",
            "WHITE                      346\n",
            "HISPANIC                    69\n",
            "ASIAN                       64\n",
            "AMERICAN INDIAN/ALASKAN      1\n",
            "Name: arrestee_race, dtype: int64\n",
            "arrestee_residency_description\n",
            "\n",
            "RESIDENT        500\n",
            "NON-RESIDENT    422\n",
            "UNKNOWN          70\n",
            "Name: arrestee_residency_description, dtype: int64\n",
            "arrest_resolution\n",
            "\n",
            "TAKEN TO JAIL               386\n",
            "PROMISE TO COMPLY           238\n",
            "INDIVIDUAL BOND             208\n",
            "NOTICE TO APPEAR - STATE     69\n",
            "NOTICE TO APPEAR - CITY      54\n",
            "NOT AVAILABLE                45\n",
            "Name: arrest_resolution, dtype: int64\n"
          ],
          "name": "stdout"
        }
      ]
    },
    {
      "cell_type": "code",
      "metadata": {
        "id": "rFShZhxSmMVq",
        "colab_type": "code",
        "outputId": "a364a92f-8c8d-4bd2-a042-0e45e6ade543",
        "colab": {
          "base_uri": "https://localhost:8080/",
          "height": 206
        }
      },
      "source": [
        "df[columns].head()"
      ],
      "execution_count": 5,
      "outputs": [
        {
          "output_type": "execute_result",
          "data": {
            "text/html": [
              "<div>\n",
              "<style scoped>\n",
              "    .dataframe tbody tr th:only-of-type {\n",
              "        vertical-align: middle;\n",
              "    }\n",
              "\n",
              "    .dataframe tbody tr th {\n",
              "        vertical-align: top;\n",
              "    }\n",
              "\n",
              "    .dataframe thead th {\n",
              "        text-align: right;\n",
              "    }\n",
              "</style>\n",
              "<table border=\"1\" class=\"dataframe\">\n",
              "  <thead>\n",
              "    <tr style=\"text-align: right;\">\n",
              "      <th></th>\n",
              "      <th>arrestee_sex</th>\n",
              "      <th>arrestee_race</th>\n",
              "      <th>arrestee_residency_description</th>\n",
              "      <th>arrest_resolution</th>\n",
              "    </tr>\n",
              "  </thead>\n",
              "  <tbody>\n",
              "    <tr>\n",
              "      <th>0</th>\n",
              "      <td>MALE</td>\n",
              "      <td>HISPANIC</td>\n",
              "      <td>RESIDENT</td>\n",
              "      <td>TAKEN TO JAIL</td>\n",
              "    </tr>\n",
              "    <tr>\n",
              "      <th>1</th>\n",
              "      <td>MALE</td>\n",
              "      <td>ASIAN</td>\n",
              "      <td>RESIDENT</td>\n",
              "      <td>TAKEN TO JAIL</td>\n",
              "    </tr>\n",
              "    <tr>\n",
              "      <th>2</th>\n",
              "      <td>MALE</td>\n",
              "      <td>ASIAN</td>\n",
              "      <td>RESIDENT</td>\n",
              "      <td>TAKEN TO JAIL</td>\n",
              "    </tr>\n",
              "    <tr>\n",
              "      <th>3</th>\n",
              "      <td>MALE</td>\n",
              "      <td>ASIAN</td>\n",
              "      <td>RESIDENT</td>\n",
              "      <td>TAKEN TO JAIL</td>\n",
              "    </tr>\n",
              "    <tr>\n",
              "      <th>4</th>\n",
              "      <td>MALE</td>\n",
              "      <td>ASIAN</td>\n",
              "      <td>RESIDENT</td>\n",
              "      <td>TAKEN TO JAIL</td>\n",
              "    </tr>\n",
              "  </tbody>\n",
              "</table>\n",
              "</div>"
            ],
            "text/plain": [
              "  arrestee_sex arrestee_race arrestee_residency_description arrest_resolution\n",
              "0         MALE      HISPANIC                       RESIDENT     TAKEN TO JAIL\n",
              "1         MALE         ASIAN                       RESIDENT     TAKEN TO JAIL\n",
              "2         MALE         ASIAN                       RESIDENT     TAKEN TO JAIL\n",
              "3         MALE         ASIAN                       RESIDENT     TAKEN TO JAIL\n",
              "4         MALE         ASIAN                       RESIDENT     TAKEN TO JAIL"
            ]
          },
          "metadata": {
            "tags": []
          },
          "execution_count": 5
        }
      ]
    },
    {
      "cell_type": "code",
      "metadata": {
        "id": "6rhEmN7ymRVH",
        "colab_type": "code",
        "outputId": "5f61bdf1-c2c4-4970-b62a-d23b5fb8149b",
        "colab": {
          "base_uri": "https://localhost:8080/",
          "height": 1000
        }
      },
      "source": [
        "df.groupby(columns[:len(columns)-1]).arrest_resolution.value_counts()"
      ],
      "execution_count": 6,
      "outputs": [
        {
          "output_type": "execute_result",
          "data": {
            "text/plain": [
              "arrestee_sex  arrestee_race            arrestee_residency_description  arrest_resolution       \n",
              "FEMALE        AMERICAN INDIAN/ALASKAN  RESIDENT                        NOTICE TO APPEAR - CITY      1\n",
              "              ASIAN                    NON-RESIDENT                    PROMISE TO COMPLY            7\n",
              "                                                                       INDIVIDUAL BOND              1\n",
              "                                                                       NOTICE TO APPEAR - STATE     1\n",
              "                                                                       TAKEN TO JAIL                1\n",
              "                                       RESIDENT                        PROMISE TO COMPLY            6\n",
              "                                                                       INDIVIDUAL BOND              2\n",
              "                                                                       NOTICE TO APPEAR - CITY      1\n",
              "              BLACK                    NON-RESIDENT                    INDIVIDUAL BOND             23\n",
              "                                                                       PROMISE TO COMPLY           13\n",
              "                                                                       TAKEN TO JAIL                9\n",
              "                                                                       NOTICE TO APPEAR - STATE     5\n",
              "                                                                       NOT AVAILABLE                3\n",
              "                                                                       NOTICE TO APPEAR - CITY      1\n",
              "                                       RESIDENT                        TAKEN TO JAIL               48\n",
              "                                                                       INDIVIDUAL BOND             24\n",
              "                                                                       PROMISE TO COMPLY           16\n",
              "                                                                       NOTICE TO APPEAR - CITY      8\n",
              "                                                                       NOTICE TO APPEAR - STATE     6\n",
              "                                                                       NOT AVAILABLE                5\n",
              "                                       UNKNOWN                         TAKEN TO JAIL                7\n",
              "              HISPANIC                 NON-RESIDENT                    INDIVIDUAL BOND              3\n",
              "                                                                       NOTICE TO APPEAR - STATE     3\n",
              "                                                                       NOT AVAILABLE                1\n",
              "                                                                       NOTICE TO APPEAR - CITY      1\n",
              "                                                                       PROMISE TO COMPLY            1\n",
              "                                       RESIDENT                        INDIVIDUAL BOND              6\n",
              "                                                                       TAKEN TO JAIL                3\n",
              "                                                                       NOTICE TO APPEAR - CITY      2\n",
              "                                                                       NOT AVAILABLE                1\n",
              "                                                                                                   ..\n",
              "MALE          BLACK                    RESIDENT                        NOTICE TO APPEAR - CITY     11\n",
              "                                                                       NOTICE TO APPEAR - STATE     9\n",
              "                                       UNKNOWN                         TAKEN TO JAIL               28\n",
              "                                                                       NOTICE TO APPEAR - STATE     5\n",
              "                                                                       NOT AVAILABLE                1\n",
              "              HISPANIC                 NON-RESIDENT                    INDIVIDUAL BOND              9\n",
              "                                                                       PROMISE TO COMPLY            7\n",
              "                                                                       TAKEN TO JAIL                2\n",
              "                                       RESIDENT                        TAKEN TO JAIL               14\n",
              "                                                                       PROMISE TO COMPLY            7\n",
              "                                                                       INDIVIDUAL BOND              3\n",
              "                                                                       NOTICE TO APPEAR - CITY      3\n",
              "                                                                       NOTICE TO APPEAR - STATE     1\n",
              "                                       UNKNOWN                         TAKEN TO JAIL                1\n",
              "              WHITE                    NON-RESIDENT                    PROMISE TO COMPLY           41\n",
              "                                                                       INDIVIDUAL BOND             22\n",
              "                                                                       TAKEN TO JAIL               14\n",
              "                                                                       NOTICE TO APPEAR - STATE     7\n",
              "                                                                       NOTICE TO APPEAR - CITY      3\n",
              "                                                                       NOT AVAILABLE                1\n",
              "                                       RESIDENT                        INDIVIDUAL BOND             21\n",
              "                                                                       TAKEN TO JAIL               21\n",
              "                                                                       PROMISE TO COMPLY           12\n",
              "                                                                       NOT AVAILABLE                5\n",
              "                                                                       NOTICE TO APPEAR - CITY      5\n",
              "                                                                       NOTICE TO APPEAR - STATE     2\n",
              "                                       UNKNOWN                         TAKEN TO JAIL               15\n",
              "                                                                       NOTICE TO APPEAR - STATE     3\n",
              "                                                                       INDIVIDUAL BOND              2\n",
              "                                                                       NOTICE TO APPEAR - CITY      1\n",
              "Name: arrest_resolution, Length: 91, dtype: int64"
            ]
          },
          "metadata": {
            "tags": []
          },
          "execution_count": 6
        }
      ]
    },
    {
      "cell_type": "code",
      "metadata": {
        "id": "HH6adPMmqoRE",
        "colab_type": "code",
        "colab": {
          "base_uri": "https://localhost:8080/",
          "height": 104
        },
        "outputId": "83387948-d900-4f5f-a5c2-cb932cf145f7"
      },
      "source": [
        "data = df[columns]\n",
        "data[columns[len(columns) - 2]].fillna('UNKNOWN', inplace=True)"
      ],
      "execution_count": 7,
      "outputs": [
        {
          "output_type": "stream",
          "text": [
            "/usr/local/lib/python3.6/dist-packages/pandas/core/generic.py:6130: SettingWithCopyWarning: \n",
            "A value is trying to be set on a copy of a slice from a DataFrame\n",
            "\n",
            "See the caveats in the documentation: http://pandas.pydata.org/pandas-docs/stable/indexing.html#indexing-view-versus-copy\n",
            "  self._update_inplace(new_data)\n"
          ],
          "name": "stderr"
        }
      ]
    },
    {
      "cell_type": "markdown",
      "metadata": {
        "id": "i0mOTz7F5IIV",
        "colab_type": "text"
      },
      "source": [
        "Below is the requirerd data structure for D3.js Sankey chart. "
      ]
    },
    {
      "cell_type": "code",
      "metadata": {
        "id": "S4Oe_Zw2pElV",
        "colab_type": "code",
        "outputId": "5e1efaea-a311-4ac0-c6af-059dfe786c68",
        "colab": {
          "base_uri": "https://localhost:8080/",
          "height": 34
        }
      },
      "source": [
        "simple_sankey = {'nodes': [{'name': 'value'}], 'links': [{'source': 0, 'dest': 1, 'value': 100}]}\n",
        "print(json.dumps(simple_sankey))"
      ],
      "execution_count": 8,
      "outputs": [
        {
          "output_type": "stream",
          "text": [
            "{\"nodes\": [{\"name\": \"value\"}], \"links\": [{\"source\": 0, \"dest\": 1, \"value\": 100}]}\n"
          ],
          "name": "stdout"
        }
      ]
    },
    {
      "cell_type": "markdown",
      "metadata": {
        "id": "DxHVHfFE5UH3",
        "colab_type": "text"
      },
      "source": [
        "'nodes' is a list of chosen columns.\n",
        "'index' is used for looking up correct index value for source and dest in link creation.\n",
        "\n",
        "Adding the nodes is trivial and the index dictionary seems to be okay. \n",
        "If there is NaN in the data, it should be handled with dropna or fillna."
      ]
    },
    {
      "cell_type": "code",
      "metadata": {
        "id": "EXlYzJvauvYJ",
        "colab_type": "code",
        "outputId": "36f89cb7-c285-423a-8c5c-8d17459df0e2",
        "colab": {
          "base_uri": "https://localhost:8080/",
          "height": 72
        }
      },
      "source": [
        "nodes = columns\n",
        "index = dict()\n",
        "\n",
        "sample_sankey = {'nodes': []}\n",
        "\n",
        "count = 0;\n",
        "for node in nodes:\n",
        "  for value in data[node].unique().tolist():\n",
        "    sample_sankey['nodes'].append({'name': str(value)})\n",
        "    index[value] = count\n",
        "    count += 1\n",
        "    \n",
        "sample_sankey['links'] = list()\n",
        "\n",
        "    \n",
        "print(json.dumps(sample_sankey))\n",
        "print(index)"
      ],
      "execution_count": 9,
      "outputs": [
        {
          "output_type": "stream",
          "text": [
            "{\"nodes\": [{\"name\": \"MALE\"}, {\"name\": \"FEMALE\"}, {\"name\": \"HISPANIC\"}, {\"name\": \"ASIAN\"}, {\"name\": \"BLACK\"}, {\"name\": \"WHITE\"}, {\"name\": \"AMERICAN INDIAN/ALASKAN\"}, {\"name\": \"RESIDENT\"}, {\"name\": \"NON-RESIDENT\"}, {\"name\": \"UNKNOWN\"}, {\"name\": \"TAKEN TO JAIL\"}, {\"name\": \"INDIVIDUAL BOND\"}, {\"name\": \"PROMISE TO COMPLY\"}, {\"name\": \"NOTICE TO APPEAR - STATE\"}, {\"name\": \"NOT AVAILABLE\"}, {\"name\": \"NOTICE TO APPEAR - CITY\"}], \"links\": []}\n",
            "{'MALE': 0, 'FEMALE': 1, 'HISPANIC': 2, 'ASIAN': 3, 'BLACK': 4, 'WHITE': 5, 'AMERICAN INDIAN/ALASKAN': 6, 'RESIDENT': 7, 'NON-RESIDENT': 8, 'UNKNOWN': 9, 'TAKEN TO JAIL': 10, 'INDIVIDUAL BOND': 11, 'PROMISE TO COMPLY': 12, 'NOTICE TO APPEAR - STATE': 13, 'NOT AVAILABLE': 14, 'NOTICE TO APPEAR - CITY': 15}\n"
          ],
          "name": "stdout"
        }
      ]
    },
    {
      "cell_type": "markdown",
      "metadata": {
        "id": "zlYXlRwj6H5c",
        "colab_type": "text"
      },
      "source": [
        "create_links function takes in source and target column labels and correctly creates the links."
      ]
    },
    {
      "cell_type": "code",
      "metadata": {
        "id": "Z4ylLglQwdim",
        "colab_type": "code",
        "outputId": "0be5d086-1361-4b99-b505-170fda49480c",
        "colab": {
          "base_uri": "https://localhost:8080/",
          "height": 54
        }
      },
      "source": [
        "def create_links(data, sankey, source, target):\n",
        "  for src in data[source].unique().tolist():\n",
        "    src_data = data[data[source] == src]\n",
        "    src_tgt_data = src_data[target].value_counts()\n",
        "    for key, val in src_tgt_data.to_dict().items():\n",
        "      link = {'source': index[src], 'target': index[key], 'value': val}\n",
        "      sankey['links'].append(link)\n",
        "      \n",
        "create_links(data, sample_sankey, nodes[0], nodes[1])\n",
        "create_links(data, sample_sankey, nodes[1], nodes[2])\n",
        "\n",
        "print(json.dumps(sample_sankey))"
      ],
      "execution_count": 10,
      "outputs": [
        {
          "output_type": "stream",
          "text": [
            "{\"nodes\": [{\"name\": \"MALE\"}, {\"name\": \"FEMALE\"}, {\"name\": \"HISPANIC\"}, {\"name\": \"ASIAN\"}, {\"name\": \"BLACK\"}, {\"name\": \"WHITE\"}, {\"name\": \"AMERICAN INDIAN/ALASKAN\"}, {\"name\": \"RESIDENT\"}, {\"name\": \"NON-RESIDENT\"}, {\"name\": \"UNKNOWN\"}, {\"name\": \"TAKEN TO JAIL\"}, {\"name\": \"INDIVIDUAL BOND\"}, {\"name\": \"PROMISE TO COMPLY\"}, {\"name\": \"NOTICE TO APPEAR - STATE\"}, {\"name\": \"NOT AVAILABLE\"}, {\"name\": \"NOTICE TO APPEAR - CITY\"}], \"links\": [{\"source\": 0, \"target\": 4, \"value\": 344}, {\"source\": 0, \"target\": 5, \"value\": 175}, {\"source\": 0, \"target\": 2, \"value\": 47}, {\"source\": 0, \"target\": 3, \"value\": 45}, {\"source\": 1, \"target\": 4, \"value\": 176}, {\"source\": 1, \"target\": 5, \"value\": 171}, {\"source\": 1, \"target\": 2, \"value\": 22}, {\"source\": 1, \"target\": 3, \"value\": 19}, {\"source\": 1, \"target\": 6, \"value\": 1}, {\"source\": 2, \"target\": 7, \"value\": 41}, {\"source\": 2, \"target\": 8, \"value\": 27}, {\"source\": 2, \"target\": 9, \"value\": 1}, {\"source\": 3, \"target\": 7, \"value\": 38}, {\"source\": 3, \"target\": 8, \"value\": 26}, {\"source\": 4, \"target\": 7, \"value\": 286}, {\"source\": 4, \"target\": 8, \"value\": 185}, {\"source\": 4, \"target\": 9, \"value\": 49}, {\"source\": 5, \"target\": 8, \"value\": 184}, {\"source\": 5, \"target\": 7, \"value\": 134}, {\"source\": 5, \"target\": 9, \"value\": 28}, {\"source\": 6, \"target\": 7, \"value\": 1}]}\n"
          ],
          "name": "stdout"
        }
      ]
    },
    {
      "cell_type": "markdown",
      "metadata": {
        "id": "18_LYloG7vk6",
        "colab_type": "text"
      },
      "source": [
        "Using NLTK's ngram, the sources and targets are correctly organized for the create_links function."
      ]
    },
    {
      "cell_type": "code",
      "metadata": {
        "id": "V_Rilb3axjI7",
        "colab_type": "code",
        "outputId": "d5d4a606-d9f5-4bce-ec13-339cafc8d2fc",
        "colab": {
          "base_uri": "https://localhost:8080/",
          "height": 69
        }
      },
      "source": [
        "from nltk.util import ngrams\n",
        "\n",
        "bigram = list(ngrams(nodes, 2))\n",
        "bigram"
      ],
      "execution_count": 11,
      "outputs": [
        {
          "output_type": "execute_result",
          "data": {
            "text/plain": [
              "[('arrestee_sex', 'arrestee_race'),\n",
              " ('arrestee_race', 'arrestee_residency_description'),\n",
              " ('arrestee_residency_description', 'arrest_resolution')]"
            ]
          },
          "metadata": {
            "tags": []
          },
          "execution_count": 11
        }
      ]
    },
    {
      "cell_type": "markdown",
      "metadata": {
        "id": "NMr37QKy87yN",
        "colab_type": "text"
      },
      "source": [
        "Now, the data is in correct format for Sankey diagram."
      ]
    },
    {
      "cell_type": "code",
      "metadata": {
        "id": "QszvMDgXzZHu",
        "colab_type": "code",
        "outputId": "cad2b6f2-5374-4c67-c5a7-3abbbbdcce68",
        "colab": {
          "base_uri": "https://localhost:8080/",
          "height": 54
        }
      },
      "source": [
        "nodes = columns\n",
        "index = dict()\n",
        "\n",
        "sankey = {'nodes': []}\n",
        "\n",
        "count = 0;\n",
        "for node in nodes:\n",
        "  for value in data[node].unique().tolist():\n",
        "    sankey['nodes'].append({'name': str(value)})\n",
        "    index[value] = count\n",
        "    count += 1\n",
        "    \n",
        "sankey['links'] = list()\n",
        "\n",
        "for gram in bigram:\n",
        "  create_links(data, sankey, gram[0], gram[1])\n",
        "  \n",
        "  \n",
        "print(json.dumps(sankey))"
      ],
      "execution_count": 12,
      "outputs": [
        {
          "output_type": "stream",
          "text": [
            "{\"nodes\": [{\"name\": \"MALE\"}, {\"name\": \"FEMALE\"}, {\"name\": \"HISPANIC\"}, {\"name\": \"ASIAN\"}, {\"name\": \"BLACK\"}, {\"name\": \"WHITE\"}, {\"name\": \"AMERICAN INDIAN/ALASKAN\"}, {\"name\": \"RESIDENT\"}, {\"name\": \"NON-RESIDENT\"}, {\"name\": \"UNKNOWN\"}, {\"name\": \"TAKEN TO JAIL\"}, {\"name\": \"INDIVIDUAL BOND\"}, {\"name\": \"PROMISE TO COMPLY\"}, {\"name\": \"NOTICE TO APPEAR - STATE\"}, {\"name\": \"NOT AVAILABLE\"}, {\"name\": \"NOTICE TO APPEAR - CITY\"}], \"links\": [{\"source\": 0, \"target\": 4, \"value\": 344}, {\"source\": 0, \"target\": 5, \"value\": 175}, {\"source\": 0, \"target\": 2, \"value\": 47}, {\"source\": 0, \"target\": 3, \"value\": 45}, {\"source\": 1, \"target\": 4, \"value\": 176}, {\"source\": 1, \"target\": 5, \"value\": 171}, {\"source\": 1, \"target\": 2, \"value\": 22}, {\"source\": 1, \"target\": 3, \"value\": 19}, {\"source\": 1, \"target\": 6, \"value\": 1}, {\"source\": 2, \"target\": 7, \"value\": 41}, {\"source\": 2, \"target\": 8, \"value\": 27}, {\"source\": 2, \"target\": 9, \"value\": 1}, {\"source\": 3, \"target\": 7, \"value\": 38}, {\"source\": 3, \"target\": 8, \"value\": 26}, {\"source\": 4, \"target\": 7, \"value\": 286}, {\"source\": 4, \"target\": 8, \"value\": 185}, {\"source\": 4, \"target\": 9, \"value\": 49}, {\"source\": 5, \"target\": 8, \"value\": 184}, {\"source\": 5, \"target\": 7, \"value\": 134}, {\"source\": 5, \"target\": 9, \"value\": 28}, {\"source\": 6, \"target\": 7, \"value\": 1}, {\"source\": 7, \"target\": 10, \"value\": 206}, {\"source\": 7, \"target\": 12, \"value\": 108}, {\"source\": 7, \"target\": 11, \"value\": 95}, {\"source\": 7, \"target\": 15, \"value\": 39}, {\"source\": 7, \"target\": 14, \"value\": 29}, {\"source\": 7, \"target\": 13, \"value\": 23}, {\"source\": 8, \"target\": 12, \"value\": 130}, {\"source\": 8, \"target\": 10, \"value\": 114}, {\"source\": 8, \"target\": 11, \"value\": 111}, {\"source\": 8, \"target\": 13, \"value\": 38}, {\"source\": 8, \"target\": 14, \"value\": 15}, {\"source\": 8, \"target\": 15, \"value\": 14}, {\"source\": 9, \"target\": 10, \"value\": 66}, {\"source\": 9, \"target\": 13, \"value\": 8}, {\"source\": 9, \"target\": 11, \"value\": 2}, {\"source\": 9, \"target\": 15, \"value\": 1}, {\"source\": 9, \"target\": 14, \"value\": 1}]}\n"
          ],
          "name": "stdout"
        }
      ]
    },
    {
      "cell_type": "code",
      "metadata": {
        "id": "GE0Rn7Y71pCV",
        "colab_type": "code",
        "colab": {}
      },
      "source": [
        "with open('data.json', 'w') as file:\n",
        "    json.dump(sankey, file)"
      ],
      "execution_count": 0,
      "outputs": []
    },
    {
      "cell_type": "markdown",
      "metadata": {
        "id": "nibhkNytBNT8",
        "colab_type": "text"
      },
      "source": [
        "Use Flow-o-matic: https://observablehq.com/@mbostock/flow-o-matic to save time.\n",
        "\n",
        "JSON Online Viewer: http://jsonviewer.stack.hu/\n",
        "\n",
        "D3.js Sankey: https://github.com/d3/d3-sankey"
      ]
    }
  ]
}