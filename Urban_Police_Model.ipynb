{
  "nbformat": 4,
  "nbformat_minor": 0,
  "metadata": {
    "colab": {
      "name": "Urban Police Model.ipynb",
      "provenance": [],
      "collapsed_sections": []
    },
    "kernelspec": {
      "name": "python3",
      "display_name": "Python 3"
    }
  },
  "cells": [
    {
      "cell_type": "code",
      "metadata": {
        "id": "IJl6b22g44WB",
        "colab_type": "code",
        "colab": {}
      },
      "source": [
        "import pandas as pd\n",
        "url = \"https://data.urbanaillinois.us/resource/afbd-8beq.csv\"\n",
        "df = pd.read_csv(url, delimiter=',')"
      ],
      "execution_count": 0,
      "outputs": []
    },
    {
      "cell_type": "code",
      "metadata": {
        "id": "DNLhhI1R5Dwj",
        "colab_type": "code",
        "outputId": "a4958e57-b6e1-4a3a-e86b-217deb9bad2a",
        "colab": {
          "base_uri": "https://localhost:8080/",
          "height": 383
        }
      },
      "source": [
        "columns = ['arrestee_sex', 'arrestee_race', 'arrestee_residency_description', 'crime_category_description', 'arrest_resolution']\n",
        "df = df[columns]\n",
        "df['arrestee_residency_description'].fillna('UNKNOWN', inplace=True)\n",
        "df['crime_category_description'].dropna(inplace=True)\n",
        "df.head(10)"
      ],
      "execution_count": 0,
      "outputs": [
        {
          "output_type": "execute_result",
          "data": {
            "text/html": [
              "<div>\n",
              "<style scoped>\n",
              "    .dataframe tbody tr th:only-of-type {\n",
              "        vertical-align: middle;\n",
              "    }\n",
              "\n",
              "    .dataframe tbody tr th {\n",
              "        vertical-align: top;\n",
              "    }\n",
              "\n",
              "    .dataframe thead th {\n",
              "        text-align: right;\n",
              "    }\n",
              "</style>\n",
              "<table border=\"1\" class=\"dataframe\">\n",
              "  <thead>\n",
              "    <tr style=\"text-align: right;\">\n",
              "      <th></th>\n",
              "      <th>arrestee_sex</th>\n",
              "      <th>arrestee_race</th>\n",
              "      <th>arrestee_residency_description</th>\n",
              "      <th>crime_category_description</th>\n",
              "      <th>arrest_resolution</th>\n",
              "    </tr>\n",
              "  </thead>\n",
              "  <tbody>\n",
              "    <tr>\n",
              "      <th>0</th>\n",
              "      <td>MALE</td>\n",
              "      <td>HISPANIC</td>\n",
              "      <td>RESIDENT</td>\n",
              "      <td>Battery</td>\n",
              "      <td>TAKEN TO JAIL</td>\n",
              "    </tr>\n",
              "    <tr>\n",
              "      <th>1</th>\n",
              "      <td>MALE</td>\n",
              "      <td>ASIAN</td>\n",
              "      <td>RESIDENT</td>\n",
              "      <td>Traffic Offenses</td>\n",
              "      <td>TAKEN TO JAIL</td>\n",
              "    </tr>\n",
              "    <tr>\n",
              "      <th>2</th>\n",
              "      <td>MALE</td>\n",
              "      <td>ASIAN</td>\n",
              "      <td>RESIDENT</td>\n",
              "      <td>Driving Under the Influence</td>\n",
              "      <td>TAKEN TO JAIL</td>\n",
              "    </tr>\n",
              "    <tr>\n",
              "      <th>3</th>\n",
              "      <td>MALE</td>\n",
              "      <td>ASIAN</td>\n",
              "      <td>RESIDENT</td>\n",
              "      <td>Traffic Offenses</td>\n",
              "      <td>TAKEN TO JAIL</td>\n",
              "    </tr>\n",
              "    <tr>\n",
              "      <th>4</th>\n",
              "      <td>MALE</td>\n",
              "      <td>ASIAN</td>\n",
              "      <td>RESIDENT</td>\n",
              "      <td>Driving Under the Influence</td>\n",
              "      <td>TAKEN TO JAIL</td>\n",
              "    </tr>\n",
              "    <tr>\n",
              "      <th>5</th>\n",
              "      <td>MALE</td>\n",
              "      <td>ASIAN</td>\n",
              "      <td>RESIDENT</td>\n",
              "      <td>Driving Under the Influence</td>\n",
              "      <td>TAKEN TO JAIL</td>\n",
              "    </tr>\n",
              "    <tr>\n",
              "      <th>6</th>\n",
              "      <td>MALE</td>\n",
              "      <td>ASIAN</td>\n",
              "      <td>RESIDENT</td>\n",
              "      <td>Traffic Offenses</td>\n",
              "      <td>TAKEN TO JAIL</td>\n",
              "    </tr>\n",
              "    <tr>\n",
              "      <th>7</th>\n",
              "      <td>MALE</td>\n",
              "      <td>BLACK</td>\n",
              "      <td>NON-RESIDENT</td>\n",
              "      <td>Traffic Offenses</td>\n",
              "      <td>TAKEN TO JAIL</td>\n",
              "    </tr>\n",
              "    <tr>\n",
              "      <th>8</th>\n",
              "      <td>MALE</td>\n",
              "      <td>BLACK</td>\n",
              "      <td>NON-RESIDENT</td>\n",
              "      <td>Driving Under the Influence</td>\n",
              "      <td>TAKEN TO JAIL</td>\n",
              "    </tr>\n",
              "    <tr>\n",
              "      <th>9</th>\n",
              "      <td>MALE</td>\n",
              "      <td>BLACK</td>\n",
              "      <td>RESIDENT</td>\n",
              "      <td>Traffic Offenses</td>\n",
              "      <td>INDIVIDUAL BOND</td>\n",
              "    </tr>\n",
              "  </tbody>\n",
              "</table>\n",
              "</div>"
            ],
            "text/plain": [
              "  arrestee_sex arrestee_race  ...   crime_category_description arrest_resolution\n",
              "0         MALE      HISPANIC  ...                      Battery     TAKEN TO JAIL\n",
              "1         MALE         ASIAN  ...             Traffic Offenses     TAKEN TO JAIL\n",
              "2         MALE         ASIAN  ...  Driving Under the Influence     TAKEN TO JAIL\n",
              "3         MALE         ASIAN  ...             Traffic Offenses     TAKEN TO JAIL\n",
              "4         MALE         ASIAN  ...  Driving Under the Influence     TAKEN TO JAIL\n",
              "5         MALE         ASIAN  ...  Driving Under the Influence     TAKEN TO JAIL\n",
              "6         MALE         ASIAN  ...             Traffic Offenses     TAKEN TO JAIL\n",
              "7         MALE         BLACK  ...             Traffic Offenses     TAKEN TO JAIL\n",
              "8         MALE         BLACK  ...  Driving Under the Influence     TAKEN TO JAIL\n",
              "9         MALE         BLACK  ...             Traffic Offenses   INDIVIDUAL BOND\n",
              "\n",
              "[10 rows x 5 columns]"
            ]
          },
          "metadata": {
            "tags": []
          },
          "execution_count": 2
        }
      ]
    },
    {
      "cell_type": "code",
      "metadata": {
        "id": "cAjqGpH37KD9",
        "colab_type": "code",
        "outputId": "bfe9ef38-730c-4a2d-eb3b-1e4181fb7dc6",
        "colab": {
          "base_uri": "https://localhost:8080/",
          "height": 383
        }
      },
      "source": [
        "df['sex'] = df['arrestee_sex'].rank(method='dense', ascending=False).astype(int)\n",
        "df['race'] = df['arrestee_race'].rank(method='dense', ascending=False).astype(int)\n",
        "df['residency'] = df['arrestee_residency_description'].rank(method='dense', ascending=False).astype(int)\n",
        "df['crime'] = df['crime_category_description'].rank(method='dense', ascending=False).astype(int)\n",
        "df['resolution'] = df['arrest_resolution'].rank(method='dense', ascending=False).astype(int)\n",
        "df.head(10)"
      ],
      "execution_count": 0,
      "outputs": [
        {
          "output_type": "execute_result",
          "data": {
            "text/html": [
              "<div>\n",
              "<style scoped>\n",
              "    .dataframe tbody tr th:only-of-type {\n",
              "        vertical-align: middle;\n",
              "    }\n",
              "\n",
              "    .dataframe tbody tr th {\n",
              "        vertical-align: top;\n",
              "    }\n",
              "\n",
              "    .dataframe thead th {\n",
              "        text-align: right;\n",
              "    }\n",
              "</style>\n",
              "<table border=\"1\" class=\"dataframe\">\n",
              "  <thead>\n",
              "    <tr style=\"text-align: right;\">\n",
              "      <th></th>\n",
              "      <th>arrestee_sex</th>\n",
              "      <th>arrestee_race</th>\n",
              "      <th>arrestee_residency_description</th>\n",
              "      <th>crime_category_description</th>\n",
              "      <th>arrest_resolution</th>\n",
              "      <th>sex</th>\n",
              "      <th>race</th>\n",
              "      <th>residency</th>\n",
              "      <th>crime</th>\n",
              "      <th>resolution</th>\n",
              "    </tr>\n",
              "  </thead>\n",
              "  <tbody>\n",
              "    <tr>\n",
              "      <th>0</th>\n",
              "      <td>MALE</td>\n",
              "      <td>HISPANIC</td>\n",
              "      <td>RESIDENT</td>\n",
              "      <td>Battery</td>\n",
              "      <td>TAKEN TO JAIL</td>\n",
              "      <td>1</td>\n",
              "      <td>2</td>\n",
              "      <td>2</td>\n",
              "      <td>34</td>\n",
              "      <td>1</td>\n",
              "    </tr>\n",
              "    <tr>\n",
              "      <th>1</th>\n",
              "      <td>MALE</td>\n",
              "      <td>ASIAN</td>\n",
              "      <td>RESIDENT</td>\n",
              "      <td>Traffic Offenses</td>\n",
              "      <td>TAKEN TO JAIL</td>\n",
              "      <td>1</td>\n",
              "      <td>4</td>\n",
              "      <td>2</td>\n",
              "      <td>7</td>\n",
              "      <td>1</td>\n",
              "    </tr>\n",
              "    <tr>\n",
              "      <th>2</th>\n",
              "      <td>MALE</td>\n",
              "      <td>ASIAN</td>\n",
              "      <td>RESIDENT</td>\n",
              "      <td>Driving Under the Influence</td>\n",
              "      <td>TAKEN TO JAIL</td>\n",
              "      <td>1</td>\n",
              "      <td>4</td>\n",
              "      <td>2</td>\n",
              "      <td>22</td>\n",
              "      <td>1</td>\n",
              "    </tr>\n",
              "    <tr>\n",
              "      <th>3</th>\n",
              "      <td>MALE</td>\n",
              "      <td>ASIAN</td>\n",
              "      <td>RESIDENT</td>\n",
              "      <td>Traffic Offenses</td>\n",
              "      <td>TAKEN TO JAIL</td>\n",
              "      <td>1</td>\n",
              "      <td>4</td>\n",
              "      <td>2</td>\n",
              "      <td>7</td>\n",
              "      <td>1</td>\n",
              "    </tr>\n",
              "    <tr>\n",
              "      <th>4</th>\n",
              "      <td>MALE</td>\n",
              "      <td>ASIAN</td>\n",
              "      <td>RESIDENT</td>\n",
              "      <td>Driving Under the Influence</td>\n",
              "      <td>TAKEN TO JAIL</td>\n",
              "      <td>1</td>\n",
              "      <td>4</td>\n",
              "      <td>2</td>\n",
              "      <td>22</td>\n",
              "      <td>1</td>\n",
              "    </tr>\n",
              "    <tr>\n",
              "      <th>5</th>\n",
              "      <td>MALE</td>\n",
              "      <td>ASIAN</td>\n",
              "      <td>RESIDENT</td>\n",
              "      <td>Driving Under the Influence</td>\n",
              "      <td>TAKEN TO JAIL</td>\n",
              "      <td>1</td>\n",
              "      <td>4</td>\n",
              "      <td>2</td>\n",
              "      <td>22</td>\n",
              "      <td>1</td>\n",
              "    </tr>\n",
              "    <tr>\n",
              "      <th>6</th>\n",
              "      <td>MALE</td>\n",
              "      <td>ASIAN</td>\n",
              "      <td>RESIDENT</td>\n",
              "      <td>Traffic Offenses</td>\n",
              "      <td>TAKEN TO JAIL</td>\n",
              "      <td>1</td>\n",
              "      <td>4</td>\n",
              "      <td>2</td>\n",
              "      <td>7</td>\n",
              "      <td>1</td>\n",
              "    </tr>\n",
              "    <tr>\n",
              "      <th>7</th>\n",
              "      <td>MALE</td>\n",
              "      <td>BLACK</td>\n",
              "      <td>NON-RESIDENT</td>\n",
              "      <td>Traffic Offenses</td>\n",
              "      <td>TAKEN TO JAIL</td>\n",
              "      <td>1</td>\n",
              "      <td>3</td>\n",
              "      <td>3</td>\n",
              "      <td>7</td>\n",
              "      <td>1</td>\n",
              "    </tr>\n",
              "    <tr>\n",
              "      <th>8</th>\n",
              "      <td>MALE</td>\n",
              "      <td>BLACK</td>\n",
              "      <td>NON-RESIDENT</td>\n",
              "      <td>Driving Under the Influence</td>\n",
              "      <td>TAKEN TO JAIL</td>\n",
              "      <td>1</td>\n",
              "      <td>3</td>\n",
              "      <td>3</td>\n",
              "      <td>22</td>\n",
              "      <td>1</td>\n",
              "    </tr>\n",
              "    <tr>\n",
              "      <th>9</th>\n",
              "      <td>MALE</td>\n",
              "      <td>BLACK</td>\n",
              "      <td>RESIDENT</td>\n",
              "      <td>Traffic Offenses</td>\n",
              "      <td>INDIVIDUAL BOND</td>\n",
              "      <td>1</td>\n",
              "      <td>3</td>\n",
              "      <td>2</td>\n",
              "      <td>7</td>\n",
              "      <td>6</td>\n",
              "    </tr>\n",
              "  </tbody>\n",
              "</table>\n",
              "</div>"
            ],
            "text/plain": [
              "  arrestee_sex arrestee_race  ... crime resolution\n",
              "0         MALE      HISPANIC  ...    34          1\n",
              "1         MALE         ASIAN  ...     7          1\n",
              "2         MALE         ASIAN  ...    22          1\n",
              "3         MALE         ASIAN  ...     7          1\n",
              "4         MALE         ASIAN  ...    22          1\n",
              "5         MALE         ASIAN  ...    22          1\n",
              "6         MALE         ASIAN  ...     7          1\n",
              "7         MALE         BLACK  ...     7          1\n",
              "8         MALE         BLACK  ...    22          1\n",
              "9         MALE         BLACK  ...     7          6\n",
              "\n",
              "[10 rows x 10 columns]"
            ]
          },
          "metadata": {
            "tags": []
          },
          "execution_count": 3
        }
      ]
    },
    {
      "cell_type": "code",
      "metadata": {
        "id": "lXtbRsfZ4PKq",
        "colab_type": "code",
        "colab": {}
      },
      "source": [
        "from sklearn.model_selection import train_test_split\n",
        "from sklearn.ensemble import RandomForestClassifier\n",
        "from sklearn import metrics"
      ],
      "execution_count": 0,
      "outputs": []
    },
    {
      "cell_type": "code",
      "metadata": {
        "id": "WKKdBUUm5cbU",
        "colab_type": "code",
        "colab": {}
      },
      "source": [
        "label = ['sex','race','residency','crime']\n",
        "X = df[label]\n",
        "Y = df['resolution']\n",
        "\n",
        "X_train, X_test, Y_train, Y_test = train_test_split(X, Y, test_size=0.3)"
      ],
      "execution_count": 0,
      "outputs": []
    },
    {
      "cell_type": "code",
      "metadata": {
        "id": "58Ft17_F5s11",
        "colab_type": "code",
        "colab": {}
      },
      "source": [
        "model = RandomForestClassifier(n_estimators=100)\n",
        "model.fit(X_train, Y_train)\n",
        "pred = model.predict(X_test)"
      ],
      "execution_count": 0,
      "outputs": []
    },
    {
      "cell_type": "code",
      "metadata": {
        "id": "0hvL3dPk7H58",
        "colab_type": "code",
        "outputId": "aac243c0-ac00-4f10-9724-4e44d9d92d3b",
        "colab": {
          "base_uri": "https://localhost:8080/",
          "height": 35
        }
      },
      "source": [
        "print(\"Accuracy:\", metrics.accuracy_score(Y_test, pred))"
      ],
      "execution_count": 0,
      "outputs": [
        {
          "output_type": "stream",
          "text": [
            "Accuracy: 0.6266666666666667\n"
          ],
          "name": "stdout"
        }
      ]
    },
    {
      "cell_type": "code",
      "metadata": {
        "id": "YIkSDZ7D9WDY",
        "colab_type": "code",
        "outputId": "49b97523-bcab-4ebf-fb52-585901cbb3ad",
        "colab": {
          "base_uri": "https://localhost:8080/",
          "height": 108
        }
      },
      "source": [
        "feature_imp = pd.Series(model.feature_importances_, index=label)\n",
        "print(feature_imp)"
      ],
      "execution_count": 0,
      "outputs": [
        {
          "output_type": "stream",
          "text": [
            "sex          0.040276\n",
            "race         0.125602\n",
            "residency    0.100499\n",
            "crime        0.733624\n",
            "dtype: float64\n"
          ],
          "name": "stdout"
        }
      ]
    },
    {
      "cell_type": "code",
      "metadata": {
        "id": "rYkgTgXo-uw9",
        "colab_type": "code",
        "outputId": "c0d04662-e4eb-4228-d087-09b0673750db",
        "colab": {
          "base_uri": "https://localhost:8080/",
          "height": 295
        }
      },
      "source": [
        "import matplotlib.pyplot as plt\n",
        "import seaborn as sns\n",
        "%matplotlib inline\n",
        "\n",
        "sns.barplot(x=feature_imp, y=feature_imp.index)\n",
        "plt.xlabel(\"Feature Importance\")\n",
        "plt.ylabel(\"Features\")\n",
        "plt.title(\"Urban Police Report Features\")\n",
        "plt.show()"
      ],
      "execution_count": 0,
      "outputs": [
        {
          "output_type": "display_data",
          "data": {
            "image/png": "[encoded data removed]",
            "text/plain": [
              "<Figure size 432x288 with 1 Axes>"
            ]
          },
          "metadata": {
            "tags": []
          }
        }
      ]
    }
  ]
}